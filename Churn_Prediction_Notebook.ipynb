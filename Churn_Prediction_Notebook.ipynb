{
  "cells": [
    {
      "cell_type": "markdown",
      "metadata": {
        "id": "8EjVhtzq2slH"
      },
      "source": [
        "# WELCOME!"
      ]
    },
    {
      "cell_type": "markdown",
      "metadata": {
        "id": "JqV3cXW-2slL"
      },
      "source": [
        "Welcome to \"***Employee Churn Analysis Project***\". \n",
        "\n",
        "Also you will research what is Employee Churn?, How it is different from customer churn, Exploratory data analysis and visualization of employee churn dataset using ***matplotlib*** and ***seaborn***, model building and evaluation using python ***scikit-learn*** and ***Tensorflow-Keras*** packages. \n",
        "\n",
        "You will be able to implement classification techniques in Python. Using Scikit-Learn allowing you to successfully make predictions with Distance Based, Bagging, Boosting algorithms for this project. On the other hand, for Deep Learning you will use Tensorflow-Keras. \n",
        "\n",
        "Before diving into the project, please take a look at the determines and project structure.\n",
        "\n",
        "- NOTE: This project assumes that you already know the basics of coding in Python and are familiar with model deployement as well as the theory behind Distance Based, Bagging, Boosting algorithms, and Confusion Matrices. You can try more models and methods beside these to improve your model metrics.\n",
        "\n"
      ]
    },
    {
      "cell_type": "markdown",
      "metadata": {
        "id": "4oRnVXpS2slN"
      },
      "source": [
        "# #Determines\n",
        "In this project you have HR data of a company. A study is requested from you to predict which employee will churn by using this data.\n",
        "\n",
        "The HR dataset has 14,999 samples. In the given dataset, you have two types of employee one who stayed and another who left the company.\n",
        "\n",
        "You can describe 10 attributes in detail as:\n",
        "- ***satisfaction_level:*** It is employee satisfaction point, which ranges from 0-1.\n",
        "- ***last_evaluation:*** It is evaluated performance by the employer, which also ranges from 0-1.\n",
        "- ***number_projects:*** How many of projects assigned to an employee?\n",
        "- ***average_monthly_hours:*** How many hours in averega an employee worked in a month?\n",
        "- **time_spent_company:** time_spent_company means employee experience. The number of years spent by an employee in the company.\n",
        "- ***work_accident:*** Whether an employee has had a work accident or not.\n",
        "- ***promotion_last_5years:*** Whether an employee has had a promotion in the last 5 years or not.\n",
        "- ***Departments:*** Employee's working department/division.\n",
        "- ***Salary:*** Salary level of the employee such as low, medium and high.\n",
        "- ***left:*** Whether the employee has left the company or not.\n",
        "\n",
        "\n"
      ]
    },
    {
      "cell_type": "markdown",
      "metadata": {
        "id": "WLTGi7q02slP"
      },
      "source": [
        "## 1. Exploratory Data Analysis\n",
        "\n"
      ]
    },
    {
      "cell_type": "markdown",
      "metadata": {
        "id": "TyrWBiyM2sld"
      },
      "source": [
        "### Importing Modules"
      ]
    },
    {
      "cell_type": "code",
      "execution_count": null,
      "metadata": {
        "id": "TI19sGjE2slf"
      },
      "outputs": [],
      "source": [
        "import numpy as np\n",
        "import pandas as pd\n",
        "import matplotlib.pyplot as plt\n",
        "import seaborn as sns\n",
        "import scipy.stats as stats\n",
        "plt.rcParams[\"figure.figsize\"] = (10,6)\n",
        "import warnings\n",
        "warnings.filterwarnings('ignore')\n",
        "pd.set_option('display.float_format', lambda x: '%.2f' % x)\n",
        "pd.options.display.float_format = '{:.3f}'.format\n",
        "pd.set_option('display.max_rows', 500)\n",
        "pd.set_option('display.max_columns', None)"
      ]
    },
    {
      "cell_type": "markdown",
      "metadata": {
        "id": "vS9n2J9-2sln"
      },
      "source": [
        "### Loading Dataset\n",
        "\n",
        "Let's first load the required HR dataset using pandas's \"read_csv\" function."
      ]
    },
    {
      "cell_type": "code",
      "execution_count": null,
      "metadata": {
        "id": "rvS39ktq2slt"
      },
      "outputs": [],
      "source": [
        "df=pd.read_csv('/content/HR_Dataset.csv')"
      ]
    },
    {
      "cell_type": "code",
      "source": [
        "df.sample(10)"
      ],
      "metadata": {
        "colab": {
          "base_uri": "https://localhost:8080/",
          "height": 427
        },
        "id": "KbpJu8mFHGVQ",
        "outputId": "a0e247d1-57c9-4172-ec68-9525b24af7bf"
      },
      "execution_count": null,
      "outputs": [
        {
          "output_type": "execute_result",
          "data": {
            "text/plain": [
              "       satisfaction_level  last_evaluation  number_project  \\\n",
              "9894                0.570            0.480               5   \n",
              "7313                0.310            0.420               2   \n",
              "12115               0.370            0.480               2   \n",
              "4355                0.760            0.990               3   \n",
              "7188                0.920            0.780               4   \n",
              "1126                0.880            0.870               4   \n",
              "9742                0.630            0.870               4   \n",
              "11875               0.420            0.470               6   \n",
              "1563                0.430            0.520               2   \n",
              "6841                0.900            0.480               3   \n",
              "\n",
              "       average_montly_hours  time_spend_company  Work_accident  left  \\\n",
              "9894                    221                   3              0     0   \n",
              "7313                    169                   5              0     0   \n",
              "12115                   137                   3              0     1   \n",
              "4355                    164                   2              0     0   \n",
              "7188                    212                   2              0     0   \n",
              "1126                    235                   6              0     1   \n",
              "9742                    145                   3              1     0   \n",
              "11875                   174                   5              0     0   \n",
              "1563                    146                   3              0     1   \n",
              "6841                    213                   3              0     0   \n",
              "\n",
              "       promotion_last_5years Departments   salary  \n",
              "9894                       0      support  medium  \n",
              "7313                       0           IT     low  \n",
              "12115                      0    technical  medium  \n",
              "4355                       0      support  medium  \n",
              "7188                       0        sales  medium  \n",
              "1126                       0   management     low  \n",
              "9742                       0      support    high  \n",
              "11875                      0    technical     low  \n",
              "1563                       0    technical     low  \n",
              "6841                       0      support     low  "
            ],
            "text/html": [
              "\n",
              "  <div id=\"df-a0637ec8-7e18-4f53-8a9a-cb56cb065187\">\n",
              "    <div class=\"colab-df-container\">\n",
              "      <div>\n",
              "<style scoped>\n",
              "    .dataframe tbody tr th:only-of-type {\n",
              "        vertical-align: middle;\n",
              "    }\n",
              "\n",
              "    .dataframe tbody tr th {\n",
              "        vertical-align: top;\n",
              "    }\n",
              "\n",
              "    .dataframe thead th {\n",
              "        text-align: right;\n",
              "    }\n",
              "</style>\n",
              "<table border=\"1\" class=\"dataframe\">\n",
              "  <thead>\n",
              "    <tr style=\"text-align: right;\">\n",
              "      <th></th>\n",
              "      <th>satisfaction_level</th>\n",
              "      <th>last_evaluation</th>\n",
              "      <th>number_project</th>\n",
              "      <th>average_montly_hours</th>\n",
              "      <th>time_spend_company</th>\n",
              "      <th>Work_accident</th>\n",
              "      <th>left</th>\n",
              "      <th>promotion_last_5years</th>\n",
              "      <th>Departments</th>\n",
              "      <th>salary</th>\n",
              "    </tr>\n",
              "  </thead>\n",
              "  <tbody>\n",
              "    <tr>\n",
              "      <th>9894</th>\n",
              "      <td>0.570</td>\n",
              "      <td>0.480</td>\n",
              "      <td>5</td>\n",
              "      <td>221</td>\n",
              "      <td>3</td>\n",
              "      <td>0</td>\n",
              "      <td>0</td>\n",
              "      <td>0</td>\n",
              "      <td>support</td>\n",
              "      <td>medium</td>\n",
              "    </tr>\n",
              "    <tr>\n",
              "      <th>7313</th>\n",
              "      <td>0.310</td>\n",
              "      <td>0.420</td>\n",
              "      <td>2</td>\n",
              "      <td>169</td>\n",
              "      <td>5</td>\n",
              "      <td>0</td>\n",
              "      <td>0</td>\n",
              "      <td>0</td>\n",
              "      <td>IT</td>\n",
              "      <td>low</td>\n",
              "    </tr>\n",
              "    <tr>\n",
              "      <th>12115</th>\n",
              "      <td>0.370</td>\n",
              "      <td>0.480</td>\n",
              "      <td>2</td>\n",
              "      <td>137</td>\n",
              "      <td>3</td>\n",
              "      <td>0</td>\n",
              "      <td>1</td>\n",
              "      <td>0</td>\n",
              "      <td>technical</td>\n",
              "      <td>medium</td>\n",
              "    </tr>\n",
              "    <tr>\n",
              "      <th>4355</th>\n",
              "      <td>0.760</td>\n",
              "      <td>0.990</td>\n",
              "      <td>3</td>\n",
              "      <td>164</td>\n",
              "      <td>2</td>\n",
              "      <td>0</td>\n",
              "      <td>0</td>\n",
              "      <td>0</td>\n",
              "      <td>support</td>\n",
              "      <td>medium</td>\n",
              "    </tr>\n",
              "    <tr>\n",
              "      <th>7188</th>\n",
              "      <td>0.920</td>\n",
              "      <td>0.780</td>\n",
              "      <td>4</td>\n",
              "      <td>212</td>\n",
              "      <td>2</td>\n",
              "      <td>0</td>\n",
              "      <td>0</td>\n",
              "      <td>0</td>\n",
              "      <td>sales</td>\n",
              "      <td>medium</td>\n",
              "    </tr>\n",
              "    <tr>\n",
              "      <th>1126</th>\n",
              "      <td>0.880</td>\n",
              "      <td>0.870</td>\n",
              "      <td>4</td>\n",
              "      <td>235</td>\n",
              "      <td>6</td>\n",
              "      <td>0</td>\n",
              "      <td>1</td>\n",
              "      <td>0</td>\n",
              "      <td>management</td>\n",
              "      <td>low</td>\n",
              "    </tr>\n",
              "    <tr>\n",
              "      <th>9742</th>\n",
              "      <td>0.630</td>\n",
              "      <td>0.870</td>\n",
              "      <td>4</td>\n",
              "      <td>145</td>\n",
              "      <td>3</td>\n",
              "      <td>1</td>\n",
              "      <td>0</td>\n",
              "      <td>0</td>\n",
              "      <td>support</td>\n",
              "      <td>high</td>\n",
              "    </tr>\n",
              "    <tr>\n",
              "      <th>11875</th>\n",
              "      <td>0.420</td>\n",
              "      <td>0.470</td>\n",
              "      <td>6</td>\n",
              "      <td>174</td>\n",
              "      <td>5</td>\n",
              "      <td>0</td>\n",
              "      <td>0</td>\n",
              "      <td>0</td>\n",
              "      <td>technical</td>\n",
              "      <td>low</td>\n",
              "    </tr>\n",
              "    <tr>\n",
              "      <th>1563</th>\n",
              "      <td>0.430</td>\n",
              "      <td>0.520</td>\n",
              "      <td>2</td>\n",
              "      <td>146</td>\n",
              "      <td>3</td>\n",
              "      <td>0</td>\n",
              "      <td>1</td>\n",
              "      <td>0</td>\n",
              "      <td>technical</td>\n",
              "      <td>low</td>\n",
              "    </tr>\n",
              "    <tr>\n",
              "      <th>6841</th>\n",
              "      <td>0.900</td>\n",
              "      <td>0.480</td>\n",
              "      <td>3</td>\n",
              "      <td>213</td>\n",
              "      <td>3</td>\n",
              "      <td>0</td>\n",
              "      <td>0</td>\n",
              "      <td>0</td>\n",
              "      <td>support</td>\n",
              "      <td>low</td>\n",
              "    </tr>\n",
              "  </tbody>\n",
              "</table>\n",
              "</div>\n",
              "      <button class=\"colab-df-convert\" onclick=\"convertToInteractive('df-a0637ec8-7e18-4f53-8a9a-cb56cb065187')\"\n",
              "              title=\"Convert this dataframe to an interactive table.\"\n",
              "              style=\"display:none;\">\n",
              "        \n",
              "  <svg xmlns=\"http://www.w3.org/2000/svg\" height=\"24px\"viewBox=\"0 0 24 24\"\n",
              "       width=\"24px\">\n",
              "    <path d=\"M0 0h24v24H0V0z\" fill=\"none\"/>\n",
              "    <path d=\"M18.56 5.44l.94 2.06.94-2.06 2.06-.94-2.06-.94-.94-2.06-.94 2.06-2.06.94zm-11 1L8.5 8.5l.94-2.06 2.06-.94-2.06-.94L8.5 2.5l-.94 2.06-2.06.94zm10 10l.94 2.06.94-2.06 2.06-.94-2.06-.94-.94-2.06-.94 2.06-2.06.94z\"/><path d=\"M17.41 7.96l-1.37-1.37c-.4-.4-.92-.59-1.43-.59-.52 0-1.04.2-1.43.59L10.3 9.45l-7.72 7.72c-.78.78-.78 2.05 0 2.83L4 21.41c.39.39.9.59 1.41.59.51 0 1.02-.2 1.41-.59l7.78-7.78 2.81-2.81c.8-.78.8-2.07 0-2.86zM5.41 20L4 18.59l7.72-7.72 1.47 1.35L5.41 20z\"/>\n",
              "  </svg>\n",
              "      </button>\n",
              "      \n",
              "  <style>\n",
              "    .colab-df-container {\n",
              "      display:flex;\n",
              "      flex-wrap:wrap;\n",
              "      gap: 12px;\n",
              "    }\n",
              "\n",
              "    .colab-df-convert {\n",
              "      background-color: #E8F0FE;\n",
              "      border: none;\n",
              "      border-radius: 50%;\n",
              "      cursor: pointer;\n",
              "      display: none;\n",
              "      fill: #1967D2;\n",
              "      height: 32px;\n",
              "      padding: 0 0 0 0;\n",
              "      width: 32px;\n",
              "    }\n",
              "\n",
              "    .colab-df-convert:hover {\n",
              "      background-color: #E2EBFA;\n",
              "      box-shadow: 0px 1px 2px rgba(60, 64, 67, 0.3), 0px 1px 3px 1px rgba(60, 64, 67, 0.15);\n",
              "      fill: #174EA6;\n",
              "    }\n",
              "\n",
              "    [theme=dark] .colab-df-convert {\n",
              "      background-color: #3B4455;\n",
              "      fill: #D2E3FC;\n",
              "    }\n",
              "\n",
              "    [theme=dark] .colab-df-convert:hover {\n",
              "      background-color: #434B5C;\n",
              "      box-shadow: 0px 1px 3px 1px rgba(0, 0, 0, 0.15);\n",
              "      filter: drop-shadow(0px 1px 2px rgba(0, 0, 0, 0.3));\n",
              "      fill: #FFFFFF;\n",
              "    }\n",
              "  </style>\n",
              "\n",
              "      <script>\n",
              "        const buttonEl =\n",
              "          document.querySelector('#df-a0637ec8-7e18-4f53-8a9a-cb56cb065187 button.colab-df-convert');\n",
              "        buttonEl.style.display =\n",
              "          google.colab.kernel.accessAllowed ? 'block' : 'none';\n",
              "\n",
              "        async function convertToInteractive(key) {\n",
              "          const element = document.querySelector('#df-a0637ec8-7e18-4f53-8a9a-cb56cb065187');\n",
              "          const dataTable =\n",
              "            await google.colab.kernel.invokeFunction('convertToInteractive',\n",
              "                                                     [key], {});\n",
              "          if (!dataTable) return;\n",
              "\n",
              "          const docLinkHtml = 'Like what you see? Visit the ' +\n",
              "            '<a target=\"_blank\" href=https://colab.research.google.com/notebooks/data_table.ipynb>data table notebook</a>'\n",
              "            + ' to learn more about interactive tables.';\n",
              "          element.innerHTML = '';\n",
              "          dataTable['output_type'] = 'display_data';\n",
              "          await google.colab.output.renderOutput(dataTable, element);\n",
              "          const docLink = document.createElement('div');\n",
              "          docLink.innerHTML = docLinkHtml;\n",
              "          element.appendChild(docLink);\n",
              "        }\n",
              "      </script>\n",
              "    </div>\n",
              "  </div>\n",
              "  "
            ]
          },
          "metadata": {},
          "execution_count": 25
        }
      ]
    },
    {
      "cell_type": "code",
      "source": [
        "df.shape"
      ],
      "metadata": {
        "colab": {
          "base_uri": "https://localhost:8080/"
        },
        "id": "PFPPQdFUgUrT",
        "outputId": "93e69cd0-51a2-4c0d-c88f-24f996013cc2"
      },
      "execution_count": null,
      "outputs": [
        {
          "output_type": "execute_result",
          "data": {
            "text/plain": [
              "(14999, 10)"
            ]
          },
          "metadata": {},
          "execution_count": 26
        }
      ]
    },
    {
      "cell_type": "code",
      "source": [
        "df.info()"
      ],
      "metadata": {
        "colab": {
          "base_uri": "https://localhost:8080/"
        },
        "id": "NdqsT4lOHK9v",
        "outputId": "dbcc8ebe-3bde-49d3-c69e-cd47d3724070"
      },
      "execution_count": null,
      "outputs": [
        {
          "output_type": "stream",
          "name": "stdout",
          "text": [
            "<class 'pandas.core.frame.DataFrame'>\n",
            "RangeIndex: 14999 entries, 0 to 14998\n",
            "Data columns (total 10 columns):\n",
            " #   Column                 Non-Null Count  Dtype  \n",
            "---  ------                 --------------  -----  \n",
            " 0   satisfaction_level     14999 non-null  float64\n",
            " 1   last_evaluation        14999 non-null  float64\n",
            " 2   number_project         14999 non-null  int64  \n",
            " 3   average_montly_hours   14999 non-null  int64  \n",
            " 4   time_spend_company     14999 non-null  int64  \n",
            " 5   Work_accident          14999 non-null  int64  \n",
            " 6   left                   14999 non-null  int64  \n",
            " 7   promotion_last_5years  14999 non-null  int64  \n",
            " 8   Departments            14999 non-null  object \n",
            " 9   salary                 14999 non-null  object \n",
            "dtypes: float64(2), int64(6), object(2)\n",
            "memory usage: 1.1+ MB\n"
          ]
        }
      ]
    },
    {
      "cell_type": "code",
      "source": [
        "df.describe().T"
      ],
      "metadata": {
        "colab": {
          "base_uri": "https://localhost:8080/",
          "height": 300
        },
        "id": "VHcP32qaOZiO",
        "outputId": "ba581c0a-32ba-4f90-eb73-7054f617b906"
      },
      "execution_count": null,
      "outputs": [
        {
          "output_type": "execute_result",
          "data": {
            "text/plain": [
              "                          count    mean    std    min     25%     50%     75%  \\\n",
              "satisfaction_level    14999.000   0.613  0.249  0.090   0.440   0.640   0.820   \n",
              "last_evaluation       14999.000   0.716  0.171  0.360   0.560   0.720   0.870   \n",
              "number_project        14999.000   3.803  1.233  2.000   3.000   4.000   5.000   \n",
              "average_montly_hours  14999.000 201.050 49.943 96.000 156.000 200.000 245.000   \n",
              "time_spend_company    14999.000   3.498  1.460  2.000   3.000   3.000   4.000   \n",
              "Work_accident         14999.000   0.145  0.352  0.000   0.000   0.000   0.000   \n",
              "left                  14999.000   0.238  0.426  0.000   0.000   0.000   0.000   \n",
              "promotion_last_5years 14999.000   0.021  0.144  0.000   0.000   0.000   0.000   \n",
              "\n",
              "                          max  \n",
              "satisfaction_level      1.000  \n",
              "last_evaluation         1.000  \n",
              "number_project          7.000  \n",
              "average_montly_hours  310.000  \n",
              "time_spend_company     10.000  \n",
              "Work_accident           1.000  \n",
              "left                    1.000  \n",
              "promotion_last_5years   1.000  "
            ],
            "text/html": [
              "\n",
              "  <div id=\"df-f882e84f-85b9-46e1-8407-7b5ed6a7e404\">\n",
              "    <div class=\"colab-df-container\">\n",
              "      <div>\n",
              "<style scoped>\n",
              "    .dataframe tbody tr th:only-of-type {\n",
              "        vertical-align: middle;\n",
              "    }\n",
              "\n",
              "    .dataframe tbody tr th {\n",
              "        vertical-align: top;\n",
              "    }\n",
              "\n",
              "    .dataframe thead th {\n",
              "        text-align: right;\n",
              "    }\n",
              "</style>\n",
              "<table border=\"1\" class=\"dataframe\">\n",
              "  <thead>\n",
              "    <tr style=\"text-align: right;\">\n",
              "      <th></th>\n",
              "      <th>count</th>\n",
              "      <th>mean</th>\n",
              "      <th>std</th>\n",
              "      <th>min</th>\n",
              "      <th>25%</th>\n",
              "      <th>50%</th>\n",
              "      <th>75%</th>\n",
              "      <th>max</th>\n",
              "    </tr>\n",
              "  </thead>\n",
              "  <tbody>\n",
              "    <tr>\n",
              "      <th>satisfaction_level</th>\n",
              "      <td>14999.000</td>\n",
              "      <td>0.613</td>\n",
              "      <td>0.249</td>\n",
              "      <td>0.090</td>\n",
              "      <td>0.440</td>\n",
              "      <td>0.640</td>\n",
              "      <td>0.820</td>\n",
              "      <td>1.000</td>\n",
              "    </tr>\n",
              "    <tr>\n",
              "      <th>last_evaluation</th>\n",
              "      <td>14999.000</td>\n",
              "      <td>0.716</td>\n",
              "      <td>0.171</td>\n",
              "      <td>0.360</td>\n",
              "      <td>0.560</td>\n",
              "      <td>0.720</td>\n",
              "      <td>0.870</td>\n",
              "      <td>1.000</td>\n",
              "    </tr>\n",
              "    <tr>\n",
              "      <th>number_project</th>\n",
              "      <td>14999.000</td>\n",
              "      <td>3.803</td>\n",
              "      <td>1.233</td>\n",
              "      <td>2.000</td>\n",
              "      <td>3.000</td>\n",
              "      <td>4.000</td>\n",
              "      <td>5.000</td>\n",
              "      <td>7.000</td>\n",
              "    </tr>\n",
              "    <tr>\n",
              "      <th>average_montly_hours</th>\n",
              "      <td>14999.000</td>\n",
              "      <td>201.050</td>\n",
              "      <td>49.943</td>\n",
              "      <td>96.000</td>\n",
              "      <td>156.000</td>\n",
              "      <td>200.000</td>\n",
              "      <td>245.000</td>\n",
              "      <td>310.000</td>\n",
              "    </tr>\n",
              "    <tr>\n",
              "      <th>time_spend_company</th>\n",
              "      <td>14999.000</td>\n",
              "      <td>3.498</td>\n",
              "      <td>1.460</td>\n",
              "      <td>2.000</td>\n",
              "      <td>3.000</td>\n",
              "      <td>3.000</td>\n",
              "      <td>4.000</td>\n",
              "      <td>10.000</td>\n",
              "    </tr>\n",
              "    <tr>\n",
              "      <th>Work_accident</th>\n",
              "      <td>14999.000</td>\n",
              "      <td>0.145</td>\n",
              "      <td>0.352</td>\n",
              "      <td>0.000</td>\n",
              "      <td>0.000</td>\n",
              "      <td>0.000</td>\n",
              "      <td>0.000</td>\n",
              "      <td>1.000</td>\n",
              "    </tr>\n",
              "    <tr>\n",
              "      <th>left</th>\n",
              "      <td>14999.000</td>\n",
              "      <td>0.238</td>\n",
              "      <td>0.426</td>\n",
              "      <td>0.000</td>\n",
              "      <td>0.000</td>\n",
              "      <td>0.000</td>\n",
              "      <td>0.000</td>\n",
              "      <td>1.000</td>\n",
              "    </tr>\n",
              "    <tr>\n",
              "      <th>promotion_last_5years</th>\n",
              "      <td>14999.000</td>\n",
              "      <td>0.021</td>\n",
              "      <td>0.144</td>\n",
              "      <td>0.000</td>\n",
              "      <td>0.000</td>\n",
              "      <td>0.000</td>\n",
              "      <td>0.000</td>\n",
              "      <td>1.000</td>\n",
              "    </tr>\n",
              "  </tbody>\n",
              "</table>\n",
              "</div>\n",
              "      <button class=\"colab-df-convert\" onclick=\"convertToInteractive('df-f882e84f-85b9-46e1-8407-7b5ed6a7e404')\"\n",
              "              title=\"Convert this dataframe to an interactive table.\"\n",
              "              style=\"display:none;\">\n",
              "        \n",
              "  <svg xmlns=\"http://www.w3.org/2000/svg\" height=\"24px\"viewBox=\"0 0 24 24\"\n",
              "       width=\"24px\">\n",
              "    <path d=\"M0 0h24v24H0V0z\" fill=\"none\"/>\n",
              "    <path d=\"M18.56 5.44l.94 2.06.94-2.06 2.06-.94-2.06-.94-.94-2.06-.94 2.06-2.06.94zm-11 1L8.5 8.5l.94-2.06 2.06-.94-2.06-.94L8.5 2.5l-.94 2.06-2.06.94zm10 10l.94 2.06.94-2.06 2.06-.94-2.06-.94-.94-2.06-.94 2.06-2.06.94z\"/><path d=\"M17.41 7.96l-1.37-1.37c-.4-.4-.92-.59-1.43-.59-.52 0-1.04.2-1.43.59L10.3 9.45l-7.72 7.72c-.78.78-.78 2.05 0 2.83L4 21.41c.39.39.9.59 1.41.59.51 0 1.02-.2 1.41-.59l7.78-7.78 2.81-2.81c.8-.78.8-2.07 0-2.86zM5.41 20L4 18.59l7.72-7.72 1.47 1.35L5.41 20z\"/>\n",
              "  </svg>\n",
              "      </button>\n",
              "      \n",
              "  <style>\n",
              "    .colab-df-container {\n",
              "      display:flex;\n",
              "      flex-wrap:wrap;\n",
              "      gap: 12px;\n",
              "    }\n",
              "\n",
              "    .colab-df-convert {\n",
              "      background-color: #E8F0FE;\n",
              "      border: none;\n",
              "      border-radius: 50%;\n",
              "      cursor: pointer;\n",
              "      display: none;\n",
              "      fill: #1967D2;\n",
              "      height: 32px;\n",
              "      padding: 0 0 0 0;\n",
              "      width: 32px;\n",
              "    }\n",
              "\n",
              "    .colab-df-convert:hover {\n",
              "      background-color: #E2EBFA;\n",
              "      box-shadow: 0px 1px 2px rgba(60, 64, 67, 0.3), 0px 1px 3px 1px rgba(60, 64, 67, 0.15);\n",
              "      fill: #174EA6;\n",
              "    }\n",
              "\n",
              "    [theme=dark] .colab-df-convert {\n",
              "      background-color: #3B4455;\n",
              "      fill: #D2E3FC;\n",
              "    }\n",
              "\n",
              "    [theme=dark] .colab-df-convert:hover {\n",
              "      background-color: #434B5C;\n",
              "      box-shadow: 0px 1px 3px 1px rgba(0, 0, 0, 0.15);\n",
              "      filter: drop-shadow(0px 1px 2px rgba(0, 0, 0, 0.3));\n",
              "      fill: #FFFFFF;\n",
              "    }\n",
              "  </style>\n",
              "\n",
              "      <script>\n",
              "        const buttonEl =\n",
              "          document.querySelector('#df-f882e84f-85b9-46e1-8407-7b5ed6a7e404 button.colab-df-convert');\n",
              "        buttonEl.style.display =\n",
              "          google.colab.kernel.accessAllowed ? 'block' : 'none';\n",
              "\n",
              "        async function convertToInteractive(key) {\n",
              "          const element = document.querySelector('#df-f882e84f-85b9-46e1-8407-7b5ed6a7e404');\n",
              "          const dataTable =\n",
              "            await google.colab.kernel.invokeFunction('convertToInteractive',\n",
              "                                                     [key], {});\n",
              "          if (!dataTable) return;\n",
              "\n",
              "          const docLinkHtml = 'Like what you see? Visit the ' +\n",
              "            '<a target=\"_blank\" href=https://colab.research.google.com/notebooks/data_table.ipynb>data table notebook</a>'\n",
              "            + ' to learn more about interactive tables.';\n",
              "          element.innerHTML = '';\n",
              "          dataTable['output_type'] = 'display_data';\n",
              "          await google.colab.output.renderOutput(dataTable, element);\n",
              "          const docLink = document.createElement('div');\n",
              "          docLink.innerHTML = docLinkHtml;\n",
              "          element.appendChild(docLink);\n",
              "        }\n",
              "      </script>\n",
              "    </div>\n",
              "  </div>\n",
              "  "
            ]
          },
          "metadata": {},
          "execution_count": 28
        }
      ]
    },
    {
      "cell_type": "code",
      "source": [
        "df.isnull().sum().sum()"
      ],
      "metadata": {
        "colab": {
          "base_uri": "https://localhost:8080/"
        },
        "id": "Hmv6igB8MbRd",
        "outputId": "8dfda536-f66b-4c26-ea4c-03fdce5ad631"
      },
      "execution_count": null,
      "outputs": [
        {
          "output_type": "execute_result",
          "data": {
            "text/plain": [
              "0"
            ]
          },
          "metadata": {},
          "execution_count": 29
        }
      ]
    },
    {
      "cell_type": "code",
      "source": [
        "df.duplicated().sum()"
      ],
      "metadata": {
        "colab": {
          "base_uri": "https://localhost:8080/"
        },
        "id": "T5ecmV8_MtXl",
        "outputId": "f4a02585-9387-4ce8-9451-1cf6eef55d11"
      },
      "execution_count": null,
      "outputs": [
        {
          "output_type": "execute_result",
          "data": {
            "text/plain": [
              "3008"
            ]
          },
          "metadata": {},
          "execution_count": 30
        }
      ]
    },
    {
      "cell_type": "code",
      "source": [
        "df.drop_duplicates(inplace=True)"
      ],
      "metadata": {
        "id": "Ou75H-YiU18Q"
      },
      "execution_count": null,
      "outputs": []
    },
    {
      "cell_type": "markdown",
      "metadata": {
        "id": "wc8t0m9u2sl2"
      },
      "source": [
        "### Data Insights\n",
        "\n"
      ]
    },
    {
      "cell_type": "code",
      "source": [
        "df_stay=df.loc[df['left']==0].describe().T"
      ],
      "metadata": {
        "id": "kOLidoYWQWE_"
      },
      "execution_count": null,
      "outputs": []
    },
    {
      "cell_type": "code",
      "source": [
        "df_left=df.loc[df['left']==1].describe().T"
      ],
      "metadata": {
        "id": "0PqBDFuRQrtZ"
      },
      "execution_count": null,
      "outputs": []
    },
    {
      "cell_type": "code",
      "source": [
        "pd.concat([df_stay,df_left],axis=0,keys=['stay','left'])"
      ],
      "metadata": {
        "colab": {
          "base_uri": "https://localhost:8080/",
          "height": 551
        },
        "id": "KaSanbW5RQjs",
        "outputId": "da13c320-cff9-4a76-c4f5-2644b2dbb5aa"
      },
      "execution_count": null,
      "outputs": [
        {
          "output_type": "execute_result",
          "data": {
            "text/plain": [
              "                               count    mean    std     min     25%     50%  \\\n",
              "stay satisfaction_level    10000.000   0.667  0.217   0.120   0.540   0.690   \n",
              "     last_evaluation       10000.000   0.716  0.162   0.360   0.580   0.710   \n",
              "     number_project        10000.000   3.787  0.982   2.000   3.000   4.000   \n",
              "     average_montly_hours  10000.000 198.943 45.666  96.000 162.000 198.000   \n",
              "     time_spend_company    10000.000   3.262  1.367   2.000   2.000   3.000   \n",
              "     Work_accident         10000.000   0.174  0.380   0.000   0.000   0.000   \n",
              "     left                  10000.000   0.000  0.000   0.000   0.000   0.000   \n",
              "     promotion_last_5years 10000.000   0.019  0.138   0.000   0.000   0.000   \n",
              "left satisfaction_level     1991.000   0.440  0.265   0.090   0.110   0.410   \n",
              "     last_evaluation        1991.000   0.722  0.197   0.450   0.520   0.790   \n",
              "     number_project         1991.000   3.883  1.817   2.000   2.000   4.000   \n",
              "     average_montly_hours   1991.000 208.162 61.295 126.000 146.000 226.000   \n",
              "     time_spend_company     1991.000   3.881  0.974   2.000   3.000   4.000   \n",
              "     Work_accident          1991.000   0.053  0.224   0.000   0.000   0.000   \n",
              "     left                   1991.000   1.000  0.000   1.000   1.000   1.000   \n",
              "     promotion_last_5years  1991.000   0.004  0.063   0.000   0.000   0.000   \n",
              "\n",
              "                               75%     max  \n",
              "stay satisfaction_level      0.840   1.000  \n",
              "     last_evaluation         0.850   1.000  \n",
              "     number_project          4.000   6.000  \n",
              "     average_montly_hours  238.000 287.000  \n",
              "     time_spend_company      4.000  10.000  \n",
              "     Work_accident           0.000   1.000  \n",
              "     left                    0.000   0.000  \n",
              "     promotion_last_5years   0.000   1.000  \n",
              "left satisfaction_level      0.730   0.920  \n",
              "     last_evaluation         0.910   1.000  \n",
              "     number_project          6.000   7.000  \n",
              "     average_montly_hours  262.500 310.000  \n",
              "     time_spend_company      5.000   6.000  \n",
              "     Work_accident           0.000   1.000  \n",
              "     left                    1.000   1.000  \n",
              "     promotion_last_5years   0.000   1.000  "
            ],
            "text/html": [
              "\n",
              "  <div id=\"df-35593fb1-6879-4ad9-8113-b1a1a21bbbd6\">\n",
              "    <div class=\"colab-df-container\">\n",
              "      <div>\n",
              "<style scoped>\n",
              "    .dataframe tbody tr th:only-of-type {\n",
              "        vertical-align: middle;\n",
              "    }\n",
              "\n",
              "    .dataframe tbody tr th {\n",
              "        vertical-align: top;\n",
              "    }\n",
              "\n",
              "    .dataframe thead th {\n",
              "        text-align: right;\n",
              "    }\n",
              "</style>\n",
              "<table border=\"1\" class=\"dataframe\">\n",
              "  <thead>\n",
              "    <tr style=\"text-align: right;\">\n",
              "      <th></th>\n",
              "      <th></th>\n",
              "      <th>count</th>\n",
              "      <th>mean</th>\n",
              "      <th>std</th>\n",
              "      <th>min</th>\n",
              "      <th>25%</th>\n",
              "      <th>50%</th>\n",
              "      <th>75%</th>\n",
              "      <th>max</th>\n",
              "    </tr>\n",
              "  </thead>\n",
              "  <tbody>\n",
              "    <tr>\n",
              "      <th rowspan=\"8\" valign=\"top\">stay</th>\n",
              "      <th>satisfaction_level</th>\n",
              "      <td>10000.000</td>\n",
              "      <td>0.667</td>\n",
              "      <td>0.217</td>\n",
              "      <td>0.120</td>\n",
              "      <td>0.540</td>\n",
              "      <td>0.690</td>\n",
              "      <td>0.840</td>\n",
              "      <td>1.000</td>\n",
              "    </tr>\n",
              "    <tr>\n",
              "      <th>last_evaluation</th>\n",
              "      <td>10000.000</td>\n",
              "      <td>0.716</td>\n",
              "      <td>0.162</td>\n",
              "      <td>0.360</td>\n",
              "      <td>0.580</td>\n",
              "      <td>0.710</td>\n",
              "      <td>0.850</td>\n",
              "      <td>1.000</td>\n",
              "    </tr>\n",
              "    <tr>\n",
              "      <th>number_project</th>\n",
              "      <td>10000.000</td>\n",
              "      <td>3.787</td>\n",
              "      <td>0.982</td>\n",
              "      <td>2.000</td>\n",
              "      <td>3.000</td>\n",
              "      <td>4.000</td>\n",
              "      <td>4.000</td>\n",
              "      <td>6.000</td>\n",
              "    </tr>\n",
              "    <tr>\n",
              "      <th>average_montly_hours</th>\n",
              "      <td>10000.000</td>\n",
              "      <td>198.943</td>\n",
              "      <td>45.666</td>\n",
              "      <td>96.000</td>\n",
              "      <td>162.000</td>\n",
              "      <td>198.000</td>\n",
              "      <td>238.000</td>\n",
              "      <td>287.000</td>\n",
              "    </tr>\n",
              "    <tr>\n",
              "      <th>time_spend_company</th>\n",
              "      <td>10000.000</td>\n",
              "      <td>3.262</td>\n",
              "      <td>1.367</td>\n",
              "      <td>2.000</td>\n",
              "      <td>2.000</td>\n",
              "      <td>3.000</td>\n",
              "      <td>4.000</td>\n",
              "      <td>10.000</td>\n",
              "    </tr>\n",
              "    <tr>\n",
              "      <th>Work_accident</th>\n",
              "      <td>10000.000</td>\n",
              "      <td>0.174</td>\n",
              "      <td>0.380</td>\n",
              "      <td>0.000</td>\n",
              "      <td>0.000</td>\n",
              "      <td>0.000</td>\n",
              "      <td>0.000</td>\n",
              "      <td>1.000</td>\n",
              "    </tr>\n",
              "    <tr>\n",
              "      <th>left</th>\n",
              "      <td>10000.000</td>\n",
              "      <td>0.000</td>\n",
              "      <td>0.000</td>\n",
              "      <td>0.000</td>\n",
              "      <td>0.000</td>\n",
              "      <td>0.000</td>\n",
              "      <td>0.000</td>\n",
              "      <td>0.000</td>\n",
              "    </tr>\n",
              "    <tr>\n",
              "      <th>promotion_last_5years</th>\n",
              "      <td>10000.000</td>\n",
              "      <td>0.019</td>\n",
              "      <td>0.138</td>\n",
              "      <td>0.000</td>\n",
              "      <td>0.000</td>\n",
              "      <td>0.000</td>\n",
              "      <td>0.000</td>\n",
              "      <td>1.000</td>\n",
              "    </tr>\n",
              "    <tr>\n",
              "      <th rowspan=\"8\" valign=\"top\">left</th>\n",
              "      <th>satisfaction_level</th>\n",
              "      <td>1991.000</td>\n",
              "      <td>0.440</td>\n",
              "      <td>0.265</td>\n",
              "      <td>0.090</td>\n",
              "      <td>0.110</td>\n",
              "      <td>0.410</td>\n",
              "      <td>0.730</td>\n",
              "      <td>0.920</td>\n",
              "    </tr>\n",
              "    <tr>\n",
              "      <th>last_evaluation</th>\n",
              "      <td>1991.000</td>\n",
              "      <td>0.722</td>\n",
              "      <td>0.197</td>\n",
              "      <td>0.450</td>\n",
              "      <td>0.520</td>\n",
              "      <td>0.790</td>\n",
              "      <td>0.910</td>\n",
              "      <td>1.000</td>\n",
              "    </tr>\n",
              "    <tr>\n",
              "      <th>number_project</th>\n",
              "      <td>1991.000</td>\n",
              "      <td>3.883</td>\n",
              "      <td>1.817</td>\n",
              "      <td>2.000</td>\n",
              "      <td>2.000</td>\n",
              "      <td>4.000</td>\n",
              "      <td>6.000</td>\n",
              "      <td>7.000</td>\n",
              "    </tr>\n",
              "    <tr>\n",
              "      <th>average_montly_hours</th>\n",
              "      <td>1991.000</td>\n",
              "      <td>208.162</td>\n",
              "      <td>61.295</td>\n",
              "      <td>126.000</td>\n",
              "      <td>146.000</td>\n",
              "      <td>226.000</td>\n",
              "      <td>262.500</td>\n",
              "      <td>310.000</td>\n",
              "    </tr>\n",
              "    <tr>\n",
              "      <th>time_spend_company</th>\n",
              "      <td>1991.000</td>\n",
              "      <td>3.881</td>\n",
              "      <td>0.974</td>\n",
              "      <td>2.000</td>\n",
              "      <td>3.000</td>\n",
              "      <td>4.000</td>\n",
              "      <td>5.000</td>\n",
              "      <td>6.000</td>\n",
              "    </tr>\n",
              "    <tr>\n",
              "      <th>Work_accident</th>\n",
              "      <td>1991.000</td>\n",
              "      <td>0.053</td>\n",
              "      <td>0.224</td>\n",
              "      <td>0.000</td>\n",
              "      <td>0.000</td>\n",
              "      <td>0.000</td>\n",
              "      <td>0.000</td>\n",
              "      <td>1.000</td>\n",
              "    </tr>\n",
              "    <tr>\n",
              "      <th>left</th>\n",
              "      <td>1991.000</td>\n",
              "      <td>1.000</td>\n",
              "      <td>0.000</td>\n",
              "      <td>1.000</td>\n",
              "      <td>1.000</td>\n",
              "      <td>1.000</td>\n",
              "      <td>1.000</td>\n",
              "      <td>1.000</td>\n",
              "    </tr>\n",
              "    <tr>\n",
              "      <th>promotion_last_5years</th>\n",
              "      <td>1991.000</td>\n",
              "      <td>0.004</td>\n",
              "      <td>0.063</td>\n",
              "      <td>0.000</td>\n",
              "      <td>0.000</td>\n",
              "      <td>0.000</td>\n",
              "      <td>0.000</td>\n",
              "      <td>1.000</td>\n",
              "    </tr>\n",
              "  </tbody>\n",
              "</table>\n",
              "</div>\n",
              "      <button class=\"colab-df-convert\" onclick=\"convertToInteractive('df-35593fb1-6879-4ad9-8113-b1a1a21bbbd6')\"\n",
              "              title=\"Convert this dataframe to an interactive table.\"\n",
              "              style=\"display:none;\">\n",
              "        \n",
              "  <svg xmlns=\"http://www.w3.org/2000/svg\" height=\"24px\"viewBox=\"0 0 24 24\"\n",
              "       width=\"24px\">\n",
              "    <path d=\"M0 0h24v24H0V0z\" fill=\"none\"/>\n",
              "    <path d=\"M18.56 5.44l.94 2.06.94-2.06 2.06-.94-2.06-.94-.94-2.06-.94 2.06-2.06.94zm-11 1L8.5 8.5l.94-2.06 2.06-.94-2.06-.94L8.5 2.5l-.94 2.06-2.06.94zm10 10l.94 2.06.94-2.06 2.06-.94-2.06-.94-.94-2.06-.94 2.06-2.06.94z\"/><path d=\"M17.41 7.96l-1.37-1.37c-.4-.4-.92-.59-1.43-.59-.52 0-1.04.2-1.43.59L10.3 9.45l-7.72 7.72c-.78.78-.78 2.05 0 2.83L4 21.41c.39.39.9.59 1.41.59.51 0 1.02-.2 1.41-.59l7.78-7.78 2.81-2.81c.8-.78.8-2.07 0-2.86zM5.41 20L4 18.59l7.72-7.72 1.47 1.35L5.41 20z\"/>\n",
              "  </svg>\n",
              "      </button>\n",
              "      \n",
              "  <style>\n",
              "    .colab-df-container {\n",
              "      display:flex;\n",
              "      flex-wrap:wrap;\n",
              "      gap: 12px;\n",
              "    }\n",
              "\n",
              "    .colab-df-convert {\n",
              "      background-color: #E8F0FE;\n",
              "      border: none;\n",
              "      border-radius: 50%;\n",
              "      cursor: pointer;\n",
              "      display: none;\n",
              "      fill: #1967D2;\n",
              "      height: 32px;\n",
              "      padding: 0 0 0 0;\n",
              "      width: 32px;\n",
              "    }\n",
              "\n",
              "    .colab-df-convert:hover {\n",
              "      background-color: #E2EBFA;\n",
              "      box-shadow: 0px 1px 2px rgba(60, 64, 67, 0.3), 0px 1px 3px 1px rgba(60, 64, 67, 0.15);\n",
              "      fill: #174EA6;\n",
              "    }\n",
              "\n",
              "    [theme=dark] .colab-df-convert {\n",
              "      background-color: #3B4455;\n",
              "      fill: #D2E3FC;\n",
              "    }\n",
              "\n",
              "    [theme=dark] .colab-df-convert:hover {\n",
              "      background-color: #434B5C;\n",
              "      box-shadow: 0px 1px 3px 1px rgba(0, 0, 0, 0.15);\n",
              "      filter: drop-shadow(0px 1px 2px rgba(0, 0, 0, 0.3));\n",
              "      fill: #FFFFFF;\n",
              "    }\n",
              "  </style>\n",
              "\n",
              "      <script>\n",
              "        const buttonEl =\n",
              "          document.querySelector('#df-35593fb1-6879-4ad9-8113-b1a1a21bbbd6 button.colab-df-convert');\n",
              "        buttonEl.style.display =\n",
              "          google.colab.kernel.accessAllowed ? 'block' : 'none';\n",
              "\n",
              "        async function convertToInteractive(key) {\n",
              "          const element = document.querySelector('#df-35593fb1-6879-4ad9-8113-b1a1a21bbbd6');\n",
              "          const dataTable =\n",
              "            await google.colab.kernel.invokeFunction('convertToInteractive',\n",
              "                                                     [key], {});\n",
              "          if (!dataTable) return;\n",
              "\n",
              "          const docLinkHtml = 'Like what you see? Visit the ' +\n",
              "            '<a target=\"_blank\" href=https://colab.research.google.com/notebooks/data_table.ipynb>data table notebook</a>'\n",
              "            + ' to learn more about interactive tables.';\n",
              "          element.innerHTML = '';\n",
              "          dataTable['output_type'] = 'display_data';\n",
              "          await google.colab.output.renderOutput(dataTable, element);\n",
              "          const docLink = document.createElement('div');\n",
              "          docLink.innerHTML = docLinkHtml;\n",
              "          element.appendChild(docLink);\n",
              "        }\n",
              "      </script>\n",
              "    </div>\n",
              "  </div>\n",
              "  "
            ]
          },
          "metadata": {},
          "execution_count": 34
        }
      ]
    },
    {
      "cell_type": "code",
      "source": [
        "df.groupby([\"left\",\"Departments \"])[\"promotion_last_5years\"].value_counts()"
      ],
      "metadata": {
        "colab": {
          "base_uri": "https://localhost:8080/"
        },
        "id": "7aZx_i5vlKw_",
        "outputId": "966f4d61-b5e6-4ed6-af37-0e18e0438918"
      },
      "execution_count": null,
      "outputs": [
        {
          "output_type": "execute_result",
          "data": {
            "text/plain": [
              "left  Departments   promotion_last_5years\n",
              "0     IT            0                         818\n",
              "      RandD         0                         588\n",
              "                    1                          21\n",
              "      accounting    0                         502\n",
              "                    1                          10\n",
              "      hr            0                         477\n",
              "                    1                          11\n",
              "      management    0                         349\n",
              "                    1                          35\n",
              "      marketing     0                         534\n",
              "                    1                          27\n",
              "      product_mng   0                         576\n",
              "      sales         0                        2634\n",
              "                    1                          55\n",
              "      support       0                        1494\n",
              "                    1                          15\n",
              "      technical     0                        1833\n",
              "                    1                          21\n",
              "1     IT            0                         156\n",
              "                    1                           2\n",
              "      RandD         0                          85\n",
              "      accounting    0                         109\n",
              "      hr            0                         113\n",
              "      management    0                          51\n",
              "                    1                           1\n",
              "      marketing     0                         112\n",
              "      product_mng   0                         110\n",
              "      sales         0                         547\n",
              "                    1                           3\n",
              "      support       0                         311\n",
              "                    1                           1\n",
              "      technical     0                         389\n",
              "                    1                           1\n",
              "Name: promotion_last_5years, dtype: int64"
            ]
          },
          "metadata": {},
          "execution_count": 40
        }
      ]
    },
    {
      "cell_type": "markdown",
      "metadata": {
        "id": "0PsO9Iew2smG"
      },
      "source": [
        "## 2. Data Visualization\n",
        "\n"
      ]
    },
    {
      "cell_type": "code",
      "execution_count": null,
      "metadata": {
        "id": "3aKWfFLk2smL",
        "colab": {
          "base_uri": "https://localhost:8080/",
          "height": 410
        },
        "outputId": "34852096-b84a-4cf6-c249-2b48d8b23fcd"
      },
      "outputs": [
        {
          "output_type": "display_data",
          "data": {
            "text/plain": [
              "<Figure size 720x432 with 1 Axes>"
            ],
            "image/png": "[encoded data removed]"
          },
          "metadata": {}
        }
      ],
      "source": [
        "plt.figure(figsize=(10,6))\n",
        "ax = sns.countplot(df['left'])\n",
        "plt.title('Distribution of people')\n",
        "for p in ax.patches:\n",
        "        ax.annotate('{}'.format(p.get_height()), (p.get_x()+0.3, p.get_height()+50))"
      ]
    },
    {
      "cell_type": "code",
      "execution_count": null,
      "metadata": {
        "id": "bGyyJcUP2sma",
        "colab": {
          "base_uri": "https://localhost:8080/",
          "height": 411
        },
        "outputId": "9f18d094-ecda-4130-cf1b-ab73faaba0ca"
      },
      "outputs": [
        {
          "output_type": "execute_result",
          "data": {
            "text/plain": [
              "<matplotlib.axes._subplots.AxesSubplot at 0x7f76729f0050>"
            ]
          },
          "metadata": {},
          "execution_count": 36
        },
        {
          "output_type": "display_data",
          "data": {
            "text/plain": [
              "<Figure size 720x432 with 1 Axes>"
            ],
            "image/png": "[encoded data removed]"
          },
          "metadata": {}
        }
      ],
      "source": [
        "sns.set(style=\"darkgrid\")\n",
        "sns.histplot(df.loc[df['left']==1]['number_project'],color='skyblue')\n",
        "sns.histplot(df.loc[df['left']==0]['number_project'],color='red')\n",
        "\n",
        "#from this data, we can obviously see that people left the company either work too many or too few projects."
      ]
    },
    {
      "cell_type": "code",
      "source": [
        "sns.countplot(df['time_spend_company'],hue=df['left'])"
      ],
      "metadata": {
        "colab": {
          "base_uri": "https://localhost:8080/",
          "height": 411
        },
        "id": "zExEJE-Mahbs",
        "outputId": "22f16fb5-3964-42b4-c00b-da13db249c6c"
      },
      "execution_count": null,
      "outputs": [
        {
          "output_type": "execute_result",
          "data": {
            "text/plain": [
              "<matplotlib.axes._subplots.AxesSubplot at 0x7f767341a210>"
            ]
          },
          "metadata": {},
          "execution_count": 37
        },
        {
          "output_type": "display_data",
          "data": {
            "text/plain": [
              "<Figure size 720x432 with 1 Axes>"
            ],
            "image/png": "[encoded data removed]"
          },
          "metadata": {}
        }
      ]
    },
    {
      "cell_type": "code",
      "source": [
        "df.columns"
      ],
      "metadata": {
        "colab": {
          "base_uri": "https://localhost:8080/"
        },
        "id": "QVpps-H1WBjx",
        "outputId": "d359fd5a-5563-4d23-fa5f-216df551c5f2"
      },
      "execution_count": null,
      "outputs": [
        {
          "output_type": "execute_result",
          "data": {
            "text/plain": [
              "Index(['satisfaction_level', 'last_evaluation', 'number_project',\n",
              "       'average_montly_hours', 'time_spend_company', 'Work_accident', 'left',\n",
              "       'promotion_last_5years', 'Departments ', 'salary'],\n",
              "      dtype='object')"
            ]
          },
          "metadata": {},
          "execution_count": 38
        }
      ]
    },
    {
      "cell_type": "code",
      "source": [
        "df['promotion_last_5years'].value_counts()"
      ],
      "metadata": {
        "colab": {
          "base_uri": "https://localhost:8080/"
        },
        "id": "BgznOPj-dqXU",
        "outputId": "e636b7de-e074-48d6-f8a5-f093d4173014"
      },
      "execution_count": null,
      "outputs": [
        {
          "output_type": "execute_result",
          "data": {
            "text/plain": [
              "0    11788\n",
              "1      203\n",
              "Name: promotion_last_5years, dtype: int64"
            ]
          },
          "metadata": {},
          "execution_count": 39
        }
      ]
    },
    {
      "cell_type": "code",
      "source": [
        "sns.boxplot(x=df['left'],y=df['satisfaction_level']);\n",
        "#it is an obvious satisfaction difference between people who left and stay"
      ],
      "metadata": {
        "colab": {
          "base_uri": "https://localhost:8080/",
          "height": 394
        },
        "id": "XAVv_Oqbcjix",
        "outputId": "34b93323-c92d-4476-8d8c-6c91d78d9539"
      },
      "execution_count": null,
      "outputs": [
        {
          "output_type": "display_data",
          "data": {
            "text/plain": [
              "<Figure size 720x432 with 1 Axes>"
            ],
            "image/png": "[encoded data removed]"
          },
          "metadata": {}
        }
      ]
    },
    {
      "cell_type": "code",
      "source": [
        "sns.countplot(df['promotion_last_5years'],hue=df['left']);\n",
        "#None of the people who left has had any promotion in the last 5 years"
      ],
      "metadata": {
        "colab": {
          "base_uri": "https://localhost:8080/",
          "height": 394
        },
        "id": "5Xe314u4d3SU",
        "outputId": "f70e60fc-1c66-4829-f250-bec941599bcc"
      },
      "execution_count": null,
      "outputs": [
        {
          "output_type": "display_data",
          "data": {
            "text/plain": [
              "<Figure size 720x432 with 1 Axes>"
            ],
            "image/png": "[encoded data removed]"
          },
          "metadata": {}
        }
      ]
    },
    {
      "cell_type": "code",
      "source": [
        "cat_list = [\"Departments \", \"salary\"]\n",
        "index = 0\n",
        "plt.figure(figsize=(16, 12))\n",
        "for i in cat_list:\n",
        "    index += 1\n",
        "    plt.subplot(2, 2, index)\n",
        "    sns.countplot(data=df, x=i, hue=\"left\")"
      ],
      "metadata": {
        "colab": {
          "base_uri": "https://localhost:8080/",
          "height": 365
        },
        "id": "W59dOLtoepBu",
        "outputId": "7f343be6-4d71-4bb3-d2aa-fe2d73937cb5"
      },
      "execution_count": null,
      "outputs": [
        {
          "output_type": "display_data",
          "data": {
            "text/plain": [
              "<Figure size 1152x864 with 2 Axes>"
            ],
            "image/png": "[encoded data removed]"
          },
          "metadata": {}
        }
      ]
    },
    {
      "cell_type": "code",
      "source": [
        "plt.figure(figsize=(16, 12))\n",
        "sns.heatmap(df.corr(), annot=True, cmap='viridis')"
      ],
      "metadata": {
        "colab": {
          "base_uri": "https://localhost:8080/",
          "height": 840
        },
        "id": "DgO7QldcELPR",
        "outputId": "399ce5d1-d1cf-41d2-83a5-caef54a28996"
      },
      "execution_count": null,
      "outputs": [
        {
          "output_type": "execute_result",
          "data": {
            "text/plain": [
              "<matplotlib.axes._subplots.AxesSubplot at 0x7f7672d41890>"
            ]
          },
          "metadata": {},
          "execution_count": 44
        },
        {
          "output_type": "display_data",
          "data": {
            "text/plain": [
              "<Figure size 1152x864 with 2 Axes>"
            ],
            "image/png": "[encoded data removed]"
          },
          "metadata": {}
        }
      ]
    },
    {
      "cell_type": "code",
      "source": [
        "df.corr()['left'].drop(\"left\").sort_values().plot.barh();"
      ],
      "metadata": {
        "colab": {
          "base_uri": "https://localhost:8080/",
          "height": 377
        },
        "id": "CxStN3dfV5R5",
        "outputId": "c2e719ce-71aa-4b79-d0dc-70e3b989653e"
      },
      "execution_count": null,
      "outputs": [
        {
          "output_type": "display_data",
          "data": {
            "text/plain": [
              "<Figure size 720x432 with 1 Axes>"
            ],
            "image/png": "[encoded data removed]"
          },
          "metadata": {}
        }
      ]
    },
    {
      "cell_type": "code",
      "source": [
        "df.hist(figsize=(15, 12), bins=15);"
      ],
      "metadata": {
        "colab": {
          "base_uri": "https://localhost:8080/",
          "height": 719
        },
        "id": "gZEznaBaV_FN",
        "outputId": "3063ca5c-1467-4dcd-b849-c16e5239d7a6"
      },
      "execution_count": null,
      "outputs": [
        {
          "output_type": "display_data",
          "data": {
            "text/plain": [
              "<Figure size 1080x864 with 9 Axes>"
            ],
            "image/png": "[encoded data removed]"
          },
          "metadata": {}
        }
      ]
    },
    {
      "cell_type": "markdown",
      "metadata": {
        "id": "36OyDJyx2sm2"
      },
      "source": [
        "## 3. Data Pre-Processing"
      ]
    },
    {
      "cell_type": "markdown",
      "metadata": {
        "id": "iN94C5P42sm4"
      },
      "source": [
        "#### Scaling\n",
        "\n",
        "\n",
        "    "
      ]
    },
    {
      "cell_type": "code",
      "execution_count": null,
      "metadata": {
        "id": "1HXszRiq2sm4"
      },
      "outputs": [],
      "source": [
        "from sklearn.preprocessing import MinMaxScaler\n",
        "scaler = MinMaxScaler()\n",
        "# Most of the data is already between 0 and 1, because of that we will use a min-max scaler.\n"
      ]
    },
    {
      "cell_type": "code",
      "source": [],
      "metadata": {
        "id": "wvga8Sv01Q1r"
      },
      "execution_count": null,
      "outputs": []
    },
    {
      "cell_type": "markdown",
      "metadata": {
        "id": "L8-SVBoq2snA"
      },
      "source": [
        "#### Encoding\n",
        "\n"
      ]
    },
    {
      "cell_type": "code",
      "execution_count": null,
      "metadata": {
        "id": "-pVP9UBQ2snC",
        "colab": {
          "base_uri": "https://localhost:8080/"
        },
        "outputId": "d0bc35a6-7b56-4d46-994f-49884cb097f5"
      },
      "outputs": [
        {
          "output_type": "stream",
          "name": "stdout",
          "text": [
            "<class 'pandas.core.frame.DataFrame'>\n",
            "Int64Index: 11991 entries, 0 to 11999\n",
            "Data columns (total 10 columns):\n",
            " #   Column                 Non-Null Count  Dtype  \n",
            "---  ------                 --------------  -----  \n",
            " 0   satisfaction_level     11991 non-null  float64\n",
            " 1   last_evaluation        11991 non-null  float64\n",
            " 2   number_project         11991 non-null  int64  \n",
            " 3   average_montly_hours   11991 non-null  int64  \n",
            " 4   time_spend_company     11991 non-null  int64  \n",
            " 5   Work_accident          11991 non-null  int64  \n",
            " 6   left                   11991 non-null  int64  \n",
            " 7   promotion_last_5years  11991 non-null  int64  \n",
            " 8   Departments            11991 non-null  object \n",
            " 9   salary                 11991 non-null  object \n",
            "dtypes: float64(2), int64(6), object(2)\n",
            "memory usage: 1.3+ MB\n"
          ]
        }
      ],
      "source": [
        "df.info()"
      ]
    },
    {
      "cell_type": "code",
      "source": [
        "df['salary'].value_counts()"
      ],
      "metadata": {
        "colab": {
          "base_uri": "https://localhost:8080/"
        },
        "id": "TMOhUVeB3e3Y",
        "outputId": "603b6c64-dd4e-497b-e2fb-98153619812d"
      },
      "execution_count": null,
      "outputs": [
        {
          "output_type": "execute_result",
          "data": {
            "text/plain": [
              "low       5740\n",
              "medium    5261\n",
              "high       990\n",
              "Name: salary, dtype: int64"
            ]
          },
          "metadata": {},
          "execution_count": 49
        }
      ]
    },
    {
      "cell_type": "code",
      "source": [
        "df['salary']=df['salary'].map({'low':0,'medium':1,'high':2})"
      ],
      "metadata": {
        "id": "fd4B15Yu3oHZ"
      },
      "execution_count": null,
      "outputs": []
    },
    {
      "cell_type": "code",
      "source": [
        "df=df.drop(columns=['Departments '])\n",
        "#We dropped the 'departments' column because this column has no effect on whether people stay or left"
      ],
      "metadata": {
        "id": "zcJy4VE74Ags"
      },
      "execution_count": null,
      "outputs": []
    },
    {
      "cell_type": "markdown",
      "metadata": {
        "id": "WpmbaABr2snN"
      },
      "source": [
        "## 5. Model Building"
      ]
    },
    {
      "cell_type": "markdown",
      "metadata": {
        "id": "pYsKmaZd2snO"
      },
      "source": [
        "### Split Data as Train and Test Set"
      ]
    },
    {
      "cell_type": "code",
      "execution_count": null,
      "metadata": {
        "id": "S15Bpefl2snS"
      },
      "outputs": [],
      "source": [
        "X=df.drop([\"left\"], axis=1)\n",
        "y=df[\"left\"]"
      ]
    },
    {
      "cell_type": "code",
      "source": [
        "from sklearn.model_selection import train_test_split\n"
      ],
      "metadata": {
        "id": "EYryB4-xddjU"
      },
      "execution_count": null,
      "outputs": []
    },
    {
      "cell_type": "code",
      "source": [
        "X_train, X_test, y_train, y_test = train_test_split(X, y, test_size=0.20, stratify=y) "
      ],
      "metadata": {
        "id": "moD2ew5hdes8"
      },
      "execution_count": null,
      "outputs": []
    },
    {
      "cell_type": "markdown",
      "metadata": {
        "id": "L8OkbOrC2snY"
      },
      "source": [
        "#### Model Building"
      ]
    },
    {
      "cell_type": "code",
      "source": [
        "from sklearn.neighbors import KNeighborsClassifier"
      ],
      "metadata": {
        "id": "0aTy-6JATTMX"
      },
      "execution_count": null,
      "outputs": []
    },
    {
      "cell_type": "code",
      "source": [
        "knn_model = KNeighborsClassifier(n_neighbors=5)"
      ],
      "metadata": {
        "id": "UuUb_S77fVuP"
      },
      "execution_count": null,
      "outputs": []
    },
    {
      "cell_type": "code",
      "source": [
        "X_train_scaled = scaler.fit_transform(X_train)\n",
        "X_test_scaled = scaler.transform(X_test)"
      ],
      "metadata": {
        "id": "9ZjaK3tbfX0_"
      },
      "execution_count": null,
      "outputs": []
    },
    {
      "cell_type": "code",
      "source": [
        "knn_model.fit(X_train_scaled,y_train)"
      ],
      "metadata": {
        "colab": {
          "base_uri": "https://localhost:8080/"
        },
        "id": "pucCwAiGfgfq",
        "outputId": "cbb3e095-eed3-4d91-8f28-d5884a5db64c"
      },
      "execution_count": null,
      "outputs": [
        {
          "output_type": "execute_result",
          "data": {
            "text/plain": [
              "KNeighborsClassifier()"
            ]
          },
          "metadata": {},
          "execution_count": 81
        }
      ]
    },
    {
      "cell_type": "code",
      "source": [
        "y_pred = knn_model.predict(X_test_scaled)\n",
        "y_pred"
      ],
      "metadata": {
        "colab": {
          "base_uri": "https://localhost:8080/"
        },
        "id": "L1Ev0ZiafgsH",
        "outputId": "98e9a179-c817-421a-ee36-4aeca4d15e2c"
      },
      "execution_count": null,
      "outputs": [
        {
          "output_type": "execute_result",
          "data": {
            "text/plain": [
              "array([0, 1, 0, ..., 0, 0, 0])"
            ]
          },
          "metadata": {},
          "execution_count": 82
        }
      ]
    },
    {
      "cell_type": "code",
      "source": [
        "y_pred_proba = knn_model.predict_proba(X_test_scaled)"
      ],
      "metadata": {
        "id": "34QYqG3_fofr"
      },
      "execution_count": null,
      "outputs": []
    },
    {
      "cell_type": "code",
      "source": [
        "pd.DataFrame(y_pred_proba)"
      ],
      "metadata": {
        "colab": {
          "base_uri": "https://localhost:8080/",
          "height": 424
        },
        "id": "VJT3l4_3fqeY",
        "outputId": "fc75af51-57b0-4341-d2e2-dfc2a2509e89"
      },
      "execution_count": null,
      "outputs": [
        {
          "output_type": "execute_result",
          "data": {
            "text/plain": [
              "         0     1\n",
              "0    1.000 0.000\n",
              "1    0.000 1.000\n",
              "2    1.000 0.000\n",
              "3    1.000 0.000\n",
              "4    0.800 0.200\n",
              "...    ...   ...\n",
              "2394 1.000 0.000\n",
              "2395 1.000 0.000\n",
              "2396 1.000 0.000\n",
              "2397 1.000 0.000\n",
              "2398 1.000 0.000\n",
              "\n",
              "[2399 rows x 2 columns]"
            ],
            "text/html": [
              "\n",
              "  <div id=\"df-2c2c6cd5-9535-43e9-9d34-148493e9e1e9\">\n",
              "    <div class=\"colab-df-container\">\n",
              "      <div>\n",
              "<style scoped>\n",
              "    .dataframe tbody tr th:only-of-type {\n",
              "        vertical-align: middle;\n",
              "    }\n",
              "\n",
              "    .dataframe tbody tr th {\n",
              "        vertical-align: top;\n",
              "    }\n",
              "\n",
              "    .dataframe thead th {\n",
              "        text-align: right;\n",
              "    }\n",
              "</style>\n",
              "<table border=\"1\" class=\"dataframe\">\n",
              "  <thead>\n",
              "    <tr style=\"text-align: right;\">\n",
              "      <th></th>\n",
              "      <th>0</th>\n",
              "      <th>1</th>\n",
              "    </tr>\n",
              "  </thead>\n",
              "  <tbody>\n",
              "    <tr>\n",
              "      <th>0</th>\n",
              "      <td>1.000</td>\n",
              "      <td>0.000</td>\n",
              "    </tr>\n",
              "    <tr>\n",
              "      <th>1</th>\n",
              "      <td>0.000</td>\n",
              "      <td>1.000</td>\n",
              "    </tr>\n",
              "    <tr>\n",
              "      <th>2</th>\n",
              "      <td>1.000</td>\n",
              "      <td>0.000</td>\n",
              "    </tr>\n",
              "    <tr>\n",
              "      <th>3</th>\n",
              "      <td>1.000</td>\n",
              "      <td>0.000</td>\n",
              "    </tr>\n",
              "    <tr>\n",
              "      <th>4</th>\n",
              "      <td>0.800</td>\n",
              "      <td>0.200</td>\n",
              "    </tr>\n",
              "    <tr>\n",
              "      <th>...</th>\n",
              "      <td>...</td>\n",
              "      <td>...</td>\n",
              "    </tr>\n",
              "    <tr>\n",
              "      <th>2394</th>\n",
              "      <td>1.000</td>\n",
              "      <td>0.000</td>\n",
              "    </tr>\n",
              "    <tr>\n",
              "      <th>2395</th>\n",
              "      <td>1.000</td>\n",
              "      <td>0.000</td>\n",
              "    </tr>\n",
              "    <tr>\n",
              "      <th>2396</th>\n",
              "      <td>1.000</td>\n",
              "      <td>0.000</td>\n",
              "    </tr>\n",
              "    <tr>\n",
              "      <th>2397</th>\n",
              "      <td>1.000</td>\n",
              "      <td>0.000</td>\n",
              "    </tr>\n",
              "    <tr>\n",
              "      <th>2398</th>\n",
              "      <td>1.000</td>\n",
              "      <td>0.000</td>\n",
              "    </tr>\n",
              "  </tbody>\n",
              "</table>\n",
              "<p>2399 rows × 2 columns</p>\n",
              "</div>\n",
              "      <button class=\"colab-df-convert\" onclick=\"convertToInteractive('df-2c2c6cd5-9535-43e9-9d34-148493e9e1e9')\"\n",
              "              title=\"Convert this dataframe to an interactive table.\"\n",
              "              style=\"display:none;\">\n",
              "        \n",
              "  <svg xmlns=\"http://www.w3.org/2000/svg\" height=\"24px\"viewBox=\"0 0 24 24\"\n",
              "       width=\"24px\">\n",
              "    <path d=\"M0 0h24v24H0V0z\" fill=\"none\"/>\n",
              "    <path d=\"M18.56 5.44l.94 2.06.94-2.06 2.06-.94-2.06-.94-.94-2.06-.94 2.06-2.06.94zm-11 1L8.5 8.5l.94-2.06 2.06-.94-2.06-.94L8.5 2.5l-.94 2.06-2.06.94zm10 10l.94 2.06.94-2.06 2.06-.94-2.06-.94-.94-2.06-.94 2.06-2.06.94z\"/><path d=\"M17.41 7.96l-1.37-1.37c-.4-.4-.92-.59-1.43-.59-.52 0-1.04.2-1.43.59L10.3 9.45l-7.72 7.72c-.78.78-.78 2.05 0 2.83L4 21.41c.39.39.9.59 1.41.59.51 0 1.02-.2 1.41-.59l7.78-7.78 2.81-2.81c.8-.78.8-2.07 0-2.86zM5.41 20L4 18.59l7.72-7.72 1.47 1.35L5.41 20z\"/>\n",
              "  </svg>\n",
              "      </button>\n",
              "      \n",
              "  <style>\n",
              "    .colab-df-container {\n",
              "      display:flex;\n",
              "      flex-wrap:wrap;\n",
              "      gap: 12px;\n",
              "    }\n",
              "\n",
              "    .colab-df-convert {\n",
              "      background-color: #E8F0FE;\n",
              "      border: none;\n",
              "      border-radius: 50%;\n",
              "      cursor: pointer;\n",
              "      display: none;\n",
              "      fill: #1967D2;\n",
              "      height: 32px;\n",
              "      padding: 0 0 0 0;\n",
              "      width: 32px;\n",
              "    }\n",
              "\n",
              "    .colab-df-convert:hover {\n",
              "      background-color: #E2EBFA;\n",
              "      box-shadow: 0px 1px 2px rgba(60, 64, 67, 0.3), 0px 1px 3px 1px rgba(60, 64, 67, 0.15);\n",
              "      fill: #174EA6;\n",
              "    }\n",
              "\n",
              "    [theme=dark] .colab-df-convert {\n",
              "      background-color: #3B4455;\n",
              "      fill: #D2E3FC;\n",
              "    }\n",
              "\n",
              "    [theme=dark] .colab-df-convert:hover {\n",
              "      background-color: #434B5C;\n",
              "      box-shadow: 0px 1px 3px 1px rgba(0, 0, 0, 0.15);\n",
              "      filter: drop-shadow(0px 1px 2px rgba(0, 0, 0, 0.3));\n",
              "      fill: #FFFFFF;\n",
              "    }\n",
              "  </style>\n",
              "\n",
              "      <script>\n",
              "        const buttonEl =\n",
              "          document.querySelector('#df-2c2c6cd5-9535-43e9-9d34-148493e9e1e9 button.colab-df-convert');\n",
              "        buttonEl.style.display =\n",
              "          google.colab.kernel.accessAllowed ? 'block' : 'none';\n",
              "\n",
              "        async function convertToInteractive(key) {\n",
              "          const element = document.querySelector('#df-2c2c6cd5-9535-43e9-9d34-148493e9e1e9');\n",
              "          const dataTable =\n",
              "            await google.colab.kernel.invokeFunction('convertToInteractive',\n",
              "                                                     [key], {});\n",
              "          if (!dataTable) return;\n",
              "\n",
              "          const docLinkHtml = 'Like what you see? Visit the ' +\n",
              "            '<a target=\"_blank\" href=https://colab.research.google.com/notebooks/data_table.ipynb>data table notebook</a>'\n",
              "            + ' to learn more about interactive tables.';\n",
              "          element.innerHTML = '';\n",
              "          dataTable['output_type'] = 'display_data';\n",
              "          await google.colab.output.renderOutput(dataTable, element);\n",
              "          const docLink = document.createElement('div');\n",
              "          docLink.innerHTML = docLinkHtml;\n",
              "          element.appendChild(docLink);\n",
              "        }\n",
              "      </script>\n",
              "    </div>\n",
              "  </div>\n",
              "  "
            ]
          },
          "metadata": {},
          "execution_count": 84
        }
      ]
    },
    {
      "cell_type": "code",
      "source": [
        "my_dict = {\"Actual\": y_test, \"Pred\":y_pred, \"Proba_1\":y_pred_proba[:,1], \"Proba_0\":y_pred_proba[:,0]}"
      ],
      "metadata": {
        "id": "4RjEcD-ufua6"
      },
      "execution_count": null,
      "outputs": []
    },
    {
      "cell_type": "code",
      "source": [
        "pd.DataFrame.from_dict(my_dict).sample(10)"
      ],
      "metadata": {
        "colab": {
          "base_uri": "https://localhost:8080/",
          "height": 363
        },
        "id": "dAC4Rju8fwZx",
        "outputId": "26401af3-6120-488a-c789-586ef14c5136"
      },
      "execution_count": null,
      "outputs": [
        {
          "output_type": "execute_result",
          "data": {
            "text/plain": [
              "       Actual  Pred  Proba_1  Proba_0\n",
              "3896        0     0    0.000    1.000\n",
              "9725        0     0    0.000    1.000\n",
              "9052        0     0    0.000    1.000\n",
              "4627        0     0    0.000    1.000\n",
              "8493        0     0    0.000    1.000\n",
              "9570        0     0    0.200    0.800\n",
              "5406        0     0    0.000    1.000\n",
              "8192        0     0    0.000    1.000\n",
              "11587       0     0    0.000    1.000\n",
              "7528        0     0    0.200    0.800"
            ],
            "text/html": [
              "\n",
              "  <div id=\"df-fd6ea998-41c3-4ac6-8785-c0406ceb9ae6\">\n",
              "    <div class=\"colab-df-container\">\n",
              "      <div>\n",
              "<style scoped>\n",
              "    .dataframe tbody tr th:only-of-type {\n",
              "        vertical-align: middle;\n",
              "    }\n",
              "\n",
              "    .dataframe tbody tr th {\n",
              "        vertical-align: top;\n",
              "    }\n",
              "\n",
              "    .dataframe thead th {\n",
              "        text-align: right;\n",
              "    }\n",
              "</style>\n",
              "<table border=\"1\" class=\"dataframe\">\n",
              "  <thead>\n",
              "    <tr style=\"text-align: right;\">\n",
              "      <th></th>\n",
              "      <th>Actual</th>\n",
              "      <th>Pred</th>\n",
              "      <th>Proba_1</th>\n",
              "      <th>Proba_0</th>\n",
              "    </tr>\n",
              "  </thead>\n",
              "  <tbody>\n",
              "    <tr>\n",
              "      <th>3896</th>\n",
              "      <td>0</td>\n",
              "      <td>0</td>\n",
              "      <td>0.000</td>\n",
              "      <td>1.000</td>\n",
              "    </tr>\n",
              "    <tr>\n",
              "      <th>9725</th>\n",
              "      <td>0</td>\n",
              "      <td>0</td>\n",
              "      <td>0.000</td>\n",
              "      <td>1.000</td>\n",
              "    </tr>\n",
              "    <tr>\n",
              "      <th>9052</th>\n",
              "      <td>0</td>\n",
              "      <td>0</td>\n",
              "      <td>0.000</td>\n",
              "      <td>1.000</td>\n",
              "    </tr>\n",
              "    <tr>\n",
              "      <th>4627</th>\n",
              "      <td>0</td>\n",
              "      <td>0</td>\n",
              "      <td>0.000</td>\n",
              "      <td>1.000</td>\n",
              "    </tr>\n",
              "    <tr>\n",
              "      <th>8493</th>\n",
              "      <td>0</td>\n",
              "      <td>0</td>\n",
              "      <td>0.000</td>\n",
              "      <td>1.000</td>\n",
              "    </tr>\n",
              "    <tr>\n",
              "      <th>9570</th>\n",
              "      <td>0</td>\n",
              "      <td>0</td>\n",
              "      <td>0.200</td>\n",
              "      <td>0.800</td>\n",
              "    </tr>\n",
              "    <tr>\n",
              "      <th>5406</th>\n",
              "      <td>0</td>\n",
              "      <td>0</td>\n",
              "      <td>0.000</td>\n",
              "      <td>1.000</td>\n",
              "    </tr>\n",
              "    <tr>\n",
              "      <th>8192</th>\n",
              "      <td>0</td>\n",
              "      <td>0</td>\n",
              "      <td>0.000</td>\n",
              "      <td>1.000</td>\n",
              "    </tr>\n",
              "    <tr>\n",
              "      <th>11587</th>\n",
              "      <td>0</td>\n",
              "      <td>0</td>\n",
              "      <td>0.000</td>\n",
              "      <td>1.000</td>\n",
              "    </tr>\n",
              "    <tr>\n",
              "      <th>7528</th>\n",
              "      <td>0</td>\n",
              "      <td>0</td>\n",
              "      <td>0.200</td>\n",
              "      <td>0.800</td>\n",
              "    </tr>\n",
              "  </tbody>\n",
              "</table>\n",
              "</div>\n",
              "      <button class=\"colab-df-convert\" onclick=\"convertToInteractive('df-fd6ea998-41c3-4ac6-8785-c0406ceb9ae6')\"\n",
              "              title=\"Convert this dataframe to an interactive table.\"\n",
              "              style=\"display:none;\">\n",
              "        \n",
              "  <svg xmlns=\"http://www.w3.org/2000/svg\" height=\"24px\"viewBox=\"0 0 24 24\"\n",
              "       width=\"24px\">\n",
              "    <path d=\"M0 0h24v24H0V0z\" fill=\"none\"/>\n",
              "    <path d=\"M18.56 5.44l.94 2.06.94-2.06 2.06-.94-2.06-.94-.94-2.06-.94 2.06-2.06.94zm-11 1L8.5 8.5l.94-2.06 2.06-.94-2.06-.94L8.5 2.5l-.94 2.06-2.06.94zm10 10l.94 2.06.94-2.06 2.06-.94-2.06-.94-.94-2.06-.94 2.06-2.06.94z\"/><path d=\"M17.41 7.96l-1.37-1.37c-.4-.4-.92-.59-1.43-.59-.52 0-1.04.2-1.43.59L10.3 9.45l-7.72 7.72c-.78.78-.78 2.05 0 2.83L4 21.41c.39.39.9.59 1.41.59.51 0 1.02-.2 1.41-.59l7.78-7.78 2.81-2.81c.8-.78.8-2.07 0-2.86zM5.41 20L4 18.59l7.72-7.72 1.47 1.35L5.41 20z\"/>\n",
              "  </svg>\n",
              "      </button>\n",
              "      \n",
              "  <style>\n",
              "    .colab-df-container {\n",
              "      display:flex;\n",
              "      flex-wrap:wrap;\n",
              "      gap: 12px;\n",
              "    }\n",
              "\n",
              "    .colab-df-convert {\n",
              "      background-color: #E8F0FE;\n",
              "      border: none;\n",
              "      border-radius: 50%;\n",
              "      cursor: pointer;\n",
              "      display: none;\n",
              "      fill: #1967D2;\n",
              "      height: 32px;\n",
              "      padding: 0 0 0 0;\n",
              "      width: 32px;\n",
              "    }\n",
              "\n",
              "    .colab-df-convert:hover {\n",
              "      background-color: #E2EBFA;\n",
              "      box-shadow: 0px 1px 2px rgba(60, 64, 67, 0.3), 0px 1px 3px 1px rgba(60, 64, 67, 0.15);\n",
              "      fill: #174EA6;\n",
              "    }\n",
              "\n",
              "    [theme=dark] .colab-df-convert {\n",
              "      background-color: #3B4455;\n",
              "      fill: #D2E3FC;\n",
              "    }\n",
              "\n",
              "    [theme=dark] .colab-df-convert:hover {\n",
              "      background-color: #434B5C;\n",
              "      box-shadow: 0px 1px 3px 1px rgba(0, 0, 0, 0.15);\n",
              "      filter: drop-shadow(0px 1px 2px rgba(0, 0, 0, 0.3));\n",
              "      fill: #FFFFFF;\n",
              "    }\n",
              "  </style>\n",
              "\n",
              "      <script>\n",
              "        const buttonEl =\n",
              "          document.querySelector('#df-fd6ea998-41c3-4ac6-8785-c0406ceb9ae6 button.colab-df-convert');\n",
              "        buttonEl.style.display =\n",
              "          google.colab.kernel.accessAllowed ? 'block' : 'none';\n",
              "\n",
              "        async function convertToInteractive(key) {\n",
              "          const element = document.querySelector('#df-fd6ea998-41c3-4ac6-8785-c0406ceb9ae6');\n",
              "          const dataTable =\n",
              "            await google.colab.kernel.invokeFunction('convertToInteractive',\n",
              "                                                     [key], {});\n",
              "          if (!dataTable) return;\n",
              "\n",
              "          const docLinkHtml = 'Like what you see? Visit the ' +\n",
              "            '<a target=\"_blank\" href=https://colab.research.google.com/notebooks/data_table.ipynb>data table notebook</a>'\n",
              "            + ' to learn more about interactive tables.';\n",
              "          element.innerHTML = '';\n",
              "          dataTable['output_type'] = 'display_data';\n",
              "          await google.colab.output.renderOutput(dataTable, element);\n",
              "          const docLink = document.createElement('div');\n",
              "          docLink.innerHTML = docLinkHtml;\n",
              "          element.appendChild(docLink);\n",
              "        }\n",
              "      </script>\n",
              "    </div>\n",
              "  </div>\n",
              "  "
            ]
          },
          "metadata": {},
          "execution_count": 86
        }
      ]
    },
    {
      "cell_type": "code",
      "execution_count": null,
      "metadata": {
        "id": "MefRCx542snY"
      },
      "outputs": [],
      "source": []
    },
    {
      "cell_type": "markdown",
      "metadata": {
        "id": "VAiUMdtI2snk"
      },
      "source": [
        "#### Evaluating Model Performance and Tuning"
      ]
    },
    {
      "cell_type": "code",
      "execution_count": null,
      "metadata": {
        "id": "CSUOz5302snx"
      },
      "outputs": [],
      "source": [
        "from sklearn.metrics import confusion_matrix, classification_report, plot_confusion_matrix"
      ]
    },
    {
      "cell_type": "code",
      "source": [
        "plot_confusion_matrix(knn_model, X_test_scaled, y_test);"
      ],
      "metadata": {
        "colab": {
          "base_uri": "https://localhost:8080/",
          "height": 361
        },
        "id": "OU7yt28mgPtU",
        "outputId": "12d52736-6ea6-4b10-b870-eb1fc9fffd30"
      },
      "execution_count": null,
      "outputs": [
        {
          "output_type": "display_data",
          "data": {
            "text/plain": [
              "<Figure size 576x396 with 2 Axes>"
            ],
            "image/png": "[encoded data removed]"
          },
          "metadata": {}
        }
      ]
    },
    {
      "cell_type": "code",
      "source": [
        "print(confusion_matrix(y_test, y_pred))\n",
        "print(classification_report(y_test, y_pred))"
      ],
      "metadata": {
        "colab": {
          "base_uri": "https://localhost:8080/"
        },
        "id": "r8m69dYGgPwP",
        "outputId": "5f44e171-dd9a-449d-c60f-ef8ea8c04cb2"
      },
      "execution_count": null,
      "outputs": [
        {
          "output_type": "stream",
          "name": "stdout",
          "text": [
            "[[1969   32]\n",
            " [  44  354]]\n",
            "              precision    recall  f1-score   support\n",
            "\n",
            "           0       0.98      0.98      0.98      2001\n",
            "           1       0.92      0.89      0.90       398\n",
            "\n",
            "    accuracy                           0.97      2399\n",
            "   macro avg       0.95      0.94      0.94      2399\n",
            "weighted avg       0.97      0.97      0.97      2399\n",
            "\n"
          ]
        }
      ]
    },
    {
      "cell_type": "code",
      "source": [
        "from sklearn.metrics import accuracy_score, f1_score, recall_score, precision_score"
      ],
      "metadata": {
        "id": "EKg28K8ng3_U"
      },
      "execution_count": null,
      "outputs": []
    },
    {
      "cell_type": "code",
      "source": [
        "test_error_rates = []\n",
        "train_error_rates = []\n",
        "\n",
        "\n",
        "for k in range(3,25,2):\n",
        "    knn_model = KNeighborsClassifier(n_neighbors=k)\n",
        "    knn_model.fit(X_train_scaled,y_train) \n",
        "   \n",
        "    y_pred_test = knn_model.predict(X_test_scaled)\n",
        "    y_pred_train = knn_model.predict(X_train_scaled)\n",
        "    \n",
        "    test_error = 1 - accuracy_score(y_test,y_pred_test)\n",
        "    train_error = 1 - accuracy_score(y_train,y_pred_train)\n",
        "    test_error_rates.append(test_error)\n",
        "    train_error_rates.append(train_error)"
      ],
      "metadata": {
        "id": "gysC1XurgnVY"
      },
      "execution_count": null,
      "outputs": []
    },
    {
      "cell_type": "code",
      "source": [
        "plt.figure(figsize=(15,8))\n",
        "plt.plot(range(3,25,2), test_error_rates, color='blue', linestyle='--', marker='o',\n",
        "         markerfacecolor='red', markersize=10)\n",
        "plt.plot(range(3,25,2), train_error_rates, color='green', linestyle='--', marker='o',\n",
        "         markerfacecolor='blue', markersize=10)\n",
        "plt.title('Error Rate vs. K Value')\n",
        "plt.xlabel('K_values')\n",
        "plt.ylabel('Error Rate')\n",
        "plt.hlines(y=0.050, xmin = 0, xmax = 30, colors= 'r', linestyles=\"--\")\n",
        "plt.hlines(y=0.057, xmin = 0, xmax = 30, colors= 'r', linestyles=\"--\")"
      ],
      "metadata": {
        "colab": {
          "base_uri": "https://localhost:8080/",
          "height": 529
        },
        "id": "MuGzVYh7gPzT",
        "outputId": "ab1aff50-a592-4be7-bd8f-0a7b47fc9c96"
      },
      "execution_count": null,
      "outputs": [
        {
          "output_type": "execute_result",
          "data": {
            "text/plain": [
              "<matplotlib.collections.LineCollection at 0x7f7672e78a10>"
            ]
          },
          "metadata": {},
          "execution_count": 92
        },
        {
          "output_type": "display_data",
          "data": {
            "text/plain": [
              "<Figure size 1080x576 with 1 Axes>"
            ],
            "image/png": "[encoded data removed]"
          },
          "metadata": {}
        }
      ]
    },
    {
      "cell_type": "code",
      "source": [
        "def eval_metric(model, X_train, y_train, X_test, y_test):\n",
        "    y_train_pred = model.predict(X_train)\n",
        "    y_pred = model.predict(X_test)\n",
        "    \n",
        "    print(\"Test_Set\\n\")\n",
        "    print(confusion_matrix(y_test, y_pred))\n",
        "    print(classification_report(y_test, y_pred))\n",
        "    print()\n",
        "    print(\"Train_Set\\n\")\n",
        "    print(confusion_matrix(y_train, y_train_pred))\n",
        "    print(classification_report(y_train, y_train_pred))"
      ],
      "metadata": {
        "id": "ezLr6j4xhVfo"
      },
      "execution_count": null,
      "outputs": []
    },
    {
      "cell_type": "code",
      "source": [
        "knn = KNeighborsClassifier(n_neighbors=15)\n",
        "\n",
        "knn.fit(X_train_scaled,y_train)\n",
        "print('WITH K=1\\n')\n",
        "eval_metric(knn, X_train_scaled, y_train, X_test_scaled, y_test)"
      ],
      "metadata": {
        "colab": {
          "base_uri": "https://localhost:8080/"
        },
        "id": "F2LioN5IhaXT",
        "outputId": "0b346d1e-1f86-487a-d32c-729c492ded6f"
      },
      "execution_count": null,
      "outputs": [
        {
          "output_type": "stream",
          "name": "stdout",
          "text": [
            "WITH K=1\n",
            "\n",
            "Test_Set\n",
            "\n",
            "[[1958   43]\n",
            " [  51  347]]\n",
            "              precision    recall  f1-score   support\n",
            "\n",
            "           0       0.97      0.98      0.98      2001\n",
            "           1       0.89      0.87      0.88       398\n",
            "\n",
            "    accuracy                           0.96      2399\n",
            "   macro avg       0.93      0.93      0.93      2399\n",
            "weighted avg       0.96      0.96      0.96      2399\n",
            "\n",
            "\n",
            "Train_Set\n",
            "\n",
            "[[7818  181]\n",
            " [ 157 1436]]\n",
            "              precision    recall  f1-score   support\n",
            "\n",
            "           0       0.98      0.98      0.98      7999\n",
            "           1       0.89      0.90      0.89      1593\n",
            "\n",
            "    accuracy                           0.96      9592\n",
            "   macro avg       0.93      0.94      0.94      9592\n",
            "weighted avg       0.96      0.96      0.96      9592\n",
            "\n"
          ]
        }
      ]
    },
    {
      "cell_type": "markdown",
      "source": [],
      "metadata": {
        "id": "CkBKO0L9o7wa"
      }
    },
    {
      "cell_type": "markdown",
      "metadata": {
        "id": "PfMy1D_p2soK"
      },
      "source": [
        "### #Random Forest Classifier"
      ]
    },
    {
      "cell_type": "markdown",
      "metadata": {
        "id": "QPakx2ON2sn3"
      },
      "source": [
        "#### Model Building"
      ]
    },
    {
      "cell_type": "code",
      "execution_count": null,
      "metadata": {
        "id": "HkNI16f72sn4",
        "colab": {
          "base_uri": "https://localhost:8080/"
        },
        "outputId": "91074cf4-7c11-46ad-82a0-6391b4d221a6"
      },
      "outputs": [
        {
          "output_type": "execute_result",
          "data": {
            "text/plain": [
              "RandomForestClassifier()"
            ]
          },
          "metadata": {},
          "execution_count": 95
        }
      ],
      "source": [
        "from sklearn.ensemble import RandomForestClassifier\n",
        "\n",
        "\n",
        "rf_model = RandomForestClassifier()\n",
        "rf_model.fit(X_train,y_train)"
      ]
    },
    {
      "cell_type": "code",
      "source": [
        "from sklearn.metrics import confusion_matrix, classification_report, accuracy_score, recall_score, precision_score,f1_score\n",
        "\n",
        "def eval_metric(model, X_train, y_train, X_test, y_test):\n",
        "    y_train_pred = model.predict(X_train)\n",
        "    y_pred = model.predict(X_test)\n",
        "    \n",
        "    print(\"Test_Set\")\n",
        "    print(confusion_matrix(y_test, y_pred))\n",
        "    print(classification_report(y_test, y_pred))\n",
        "    print()\n",
        "    print(\"Train_Set\")\n",
        "    print(confusion_matrix(y_train, y_train_pred))\n",
        "    print(classification_report(y_train, y_train_pred))"
      ],
      "metadata": {
        "id": "mYS2ScOp68hz"
      },
      "execution_count": null,
      "outputs": []
    },
    {
      "cell_type": "markdown",
      "metadata": {
        "id": "MdGymWJ_2sn9"
      },
      "source": [
        "#### Evaluating Model Performance and Tuning"
      ]
    },
    {
      "cell_type": "code",
      "execution_count": null,
      "metadata": {
        "id": "TPF_wziW2soC",
        "colab": {
          "base_uri": "https://localhost:8080/"
        },
        "outputId": "0cf4b648-6ba6-4ad9-9c99-afb6abaf5939"
      },
      "outputs": [
        {
          "output_type": "stream",
          "name": "stdout",
          "text": [
            "Test_Set\n",
            "[[1999    2]\n",
            " [  37  361]]\n",
            "              precision    recall  f1-score   support\n",
            "\n",
            "           0       0.98      1.00      0.99      2001\n",
            "           1       0.99      0.91      0.95       398\n",
            "\n",
            "    accuracy                           0.98      2399\n",
            "   macro avg       0.99      0.95      0.97      2399\n",
            "weighted avg       0.98      0.98      0.98      2399\n",
            "\n",
            "\n",
            "Train_Set\n",
            "[[7999    0]\n",
            " [   0 1593]]\n",
            "              precision    recall  f1-score   support\n",
            "\n",
            "           0       1.00      1.00      1.00      7999\n",
            "           1       1.00      1.00      1.00      1593\n",
            "\n",
            "    accuracy                           1.00      9592\n",
            "   macro avg       1.00      1.00      1.00      9592\n",
            "weighted avg       1.00      1.00      1.00      9592\n",
            "\n"
          ]
        }
      ],
      "source": [
        "eval_metric(rf_model, X_train, y_train, X_test, y_test)"
      ]
    },
    {
      "cell_type": "code",
      "source": [
        "from yellowbrick.classifier import ROCAUC\n",
        "\n",
        "model = rf_model\n",
        "visualizer = ROCAUC(model)\n",
        "\n",
        "visualizer.fit(X_train, y_train)        # Fit the training data to the visualizer\n",
        "visualizer.score(X_test, y_test)        # Evaluate the model on the test data\n",
        "visualizer.show();     "
      ],
      "metadata": {
        "colab": {
          "base_uri": "https://localhost:8080/",
          "height": 376
        },
        "id": "h1JXKhLf7P9f",
        "outputId": "c512989f-4b2f-4264-928f-2cae5ca7249f"
      },
      "execution_count": null,
      "outputs": [
        {
          "output_type": "display_data",
          "data": {
            "text/plain": [
              "<Figure size 576x396 with 1 Axes>"
            ],
            "image/png": "[encoded data removed]"
          },
          "metadata": {}
        }
      ]
    },
    {
      "cell_type": "markdown",
      "metadata": {
        "id": "_BYTdWlr2soJ"
      },
      "source": [
        "#### Prediction"
      ]
    },
    {
      "cell_type": "code",
      "source": [
        "pred_sample=df.drop(columns=['left']).sample(10)"
      ],
      "metadata": {
        "id": "9KT7jzZ-TgMe"
      },
      "execution_count": null,
      "outputs": []
    },
    {
      "cell_type": "code",
      "source": [
        "pred=rf_model.predict(pred_sample)\n",
        "pred"
      ],
      "metadata": {
        "colab": {
          "base_uri": "https://localhost:8080/"
        },
        "id": "FDcbyUFb8FIe",
        "outputId": "c14e6d41-acd1-4ec3-b13a-e7e4ab4531d4"
      },
      "execution_count": null,
      "outputs": [
        {
          "output_type": "execute_result",
          "data": {
            "text/plain": [
              "array([0, 0, 0, 1, 0, 1, 0, 1, 1, 0])"
            ]
          },
          "metadata": {},
          "execution_count": 100
        }
      ]
    },
    {
      "cell_type": "code",
      "source": [
        "df.iloc[pred_sample.index]['left'].values==pred\n",
        "##All of our predictions are true, our model works perfectly "
      ],
      "metadata": {
        "colab": {
          "base_uri": "https://localhost:8080/"
        },
        "id": "uLddwlIu8cfn",
        "outputId": "dee9c6b4-9bb4-4cbe-c011-84f57b56565e"
      },
      "execution_count": null,
      "outputs": [
        {
          "output_type": "execute_result",
          "data": {
            "text/plain": [
              "array([ True,  True,  True,  True,  True,  True,  True,  True,  True,\n",
              "        True])"
            ]
          },
          "metadata": {},
          "execution_count": 101
        }
      ]
    },
    {
      "cell_type": "markdown",
      "metadata": {
        "id": "Y4d55Vek2snX"
      },
      "source": [
        "### #XGBoost Classifier"
      ]
    },
    {
      "cell_type": "markdown",
      "metadata": {
        "id": "M4GifMUw2soL"
      },
      "source": [
        "#### Model Building"
      ]
    },
    {
      "cell_type": "code",
      "execution_count": null,
      "metadata": {
        "id": "uhjBZQbu2soN"
      },
      "outputs": [],
      "source": [
        "from sklearn.ensemble import AdaBoostClassifier\n",
        "from sklearn.tree import DecisionTreeClassifier\n",
        "from sklearn.metrics import confusion_matrix, classification_report, accuracy_score, recall_score, precision_score, f1_score, roc_auc_score\n",
        "from sklearn.model_selection import cross_val_score, cross_validate"
      ]
    },
    {
      "cell_type": "code",
      "source": [
        "pip install xgboost==0.90"
      ],
      "metadata": {
        "colab": {
          "base_uri": "https://localhost:8080/"
        },
        "id": "0cwLtpQ7Dy1w",
        "outputId": "754dc24a-1a35-4809-c02d-36a1667a9f4e"
      },
      "execution_count": null,
      "outputs": [
        {
          "output_type": "stream",
          "name": "stdout",
          "text": [
            "Looking in indexes: https://pypi.org/simple, https://us-python.pkg.dev/colab-wheels/public/simple/\n",
            "Requirement already satisfied: xgboost==0.90 in /usr/local/lib/python3.7/dist-packages (0.90)\n",
            "Requirement already satisfied: scipy in /usr/local/lib/python3.7/dist-packages (from xgboost==0.90) (1.7.3)\n",
            "Requirement already satisfied: numpy in /usr/local/lib/python3.7/dist-packages (from xgboost==0.90) (1.21.6)\n"
          ]
        }
      ]
    },
    {
      "cell_type": "code",
      "source": [
        "import xgboost as xgb\n",
        "\n",
        "xgb.__version__"
      ],
      "metadata": {
        "colab": {
          "base_uri": "https://localhost:8080/",
          "height": 35
        },
        "id": "arKDnL8_D3mY",
        "outputId": "8a4b3c62-c9af-446c-edf7-65b90e51bcfe"
      },
      "execution_count": null,
      "outputs": [
        {
          "output_type": "execute_result",
          "data": {
            "text/plain": [
              "'0.90'"
            ],
            "application/vnd.google.colaboratory.intrinsic+json": {
              "type": "string"
            }
          },
          "metadata": {},
          "execution_count": 104
        }
      ]
    },
    {
      "cell_type": "code",
      "source": [
        "from xgboost import XGBClassifier"
      ],
      "metadata": {
        "id": "NXu1_UgaD7q3"
      },
      "execution_count": null,
      "outputs": []
    },
    {
      "cell_type": "code",
      "source": [
        "xgb = XGBClassifier().fit(X_train, y_train)"
      ],
      "metadata": {
        "id": "VJN7IIYkEACP"
      },
      "execution_count": null,
      "outputs": []
    },
    {
      "cell_type": "markdown",
      "metadata": {
        "id": "xRUPvrME2soc"
      },
      "source": [
        "#### Evaluating Model Performance and Tuning"
      ]
    },
    {
      "cell_type": "code",
      "execution_count": null,
      "metadata": {
        "id": "tXKuonpN2soe",
        "colab": {
          "base_uri": "https://localhost:8080/"
        },
        "outputId": "efa57efc-61b3-4440-bde9-7d5c2bac12ef"
      },
      "outputs": [
        {
          "output_type": "stream",
          "name": "stdout",
          "text": [
            "Test_Set\n",
            "[[1991   10]\n",
            " [  38  360]]\n",
            "              precision    recall  f1-score   support\n",
            "\n",
            "           0       0.98      1.00      0.99      2001\n",
            "           1       0.97      0.90      0.94       398\n",
            "\n",
            "    accuracy                           0.98      2399\n",
            "   macro avg       0.98      0.95      0.96      2399\n",
            "weighted avg       0.98      0.98      0.98      2399\n",
            "\n",
            "\n",
            "Train_Set\n",
            "[[7945   54]\n",
            " [ 118 1475]]\n",
            "              precision    recall  f1-score   support\n",
            "\n",
            "           0       0.99      0.99      0.99      7999\n",
            "           1       0.96      0.93      0.94      1593\n",
            "\n",
            "    accuracy                           0.98      9592\n",
            "   macro avg       0.98      0.96      0.97      9592\n",
            "weighted avg       0.98      0.98      0.98      9592\n",
            "\n"
          ]
        }
      ],
      "source": [
        "eval_metric(xgb, X_train, y_train, X_test, y_test)"
      ]
    },
    {
      "cell_type": "code",
      "source": [
        "model = XGBClassifier(random_state=42)\n",
        "\n",
        "scores = cross_validate(model, X_train, y_train, scoring = ['accuracy', 'precision','recall',\n",
        "                                                                   'f1', 'roc_auc'], cv = 10)\n",
        "df_scores = pd.DataFrame(scores, index = range(1, 11))\n",
        "df_scores.mean()[2:]"
      ],
      "metadata": {
        "colab": {
          "base_uri": "https://localhost:8080/"
        },
        "id": "UqXjyvlDEJFU",
        "outputId": "5fc8e85c-cfac-4f32-a4c1-d90f640bc27a"
      },
      "execution_count": null,
      "outputs": [
        {
          "output_type": "execute_result",
          "data": {
            "text/plain": [
              "test_accuracy    0.980\n",
              "test_precision   0.960\n",
              "test_recall      0.918\n",
              "test_f1          0.939\n",
              "test_roc_auc     0.986\n",
              "dtype: float64"
            ]
          },
          "metadata": {},
          "execution_count": 108
        }
      ]
    },
    {
      "cell_type": "code",
      "source": [
        "from sklearn.model_selection import GridSearchCV"
      ],
      "metadata": {
        "id": "NQ3COVkVEfbM"
      },
      "execution_count": null,
      "outputs": []
    },
    {
      "cell_type": "code",
      "source": [
        "param_grid = {\"n_estimators\":[50, 100, 200],'max_depth':[3,4,5], \"learning_rate\": [0.1, 0.2],\n",
        "             \"subsample\":[0.5, 0.8, 1], \"colsample_bytree\":[0.5,0.7, 1]}"
      ],
      "metadata": {
        "id": "Nk09ecWFERLE"
      },
      "execution_count": null,
      "outputs": []
    },
    {
      "cell_type": "code",
      "source": [
        "xgb_model = XGBClassifier(random_state=42)"
      ],
      "metadata": {
        "id": "vJshLw75EU03"
      },
      "execution_count": null,
      "outputs": []
    },
    {
      "cell_type": "code",
      "source": [
        "xgb_grid = GridSearchCV(xgb_model, param_grid, scoring = \"f1\", verbose=2, n_jobs = -1).fit(X_train, y_train)"
      ],
      "metadata": {
        "colab": {
          "base_uri": "https://localhost:8080/"
        },
        "id": "FwqTHCeEEU6I",
        "outputId": "2d792dbe-e8d8-4cb5-8058-4d7cf136900f"
      },
      "execution_count": null,
      "outputs": [
        {
          "output_type": "stream",
          "name": "stdout",
          "text": [
            "Fitting 5 folds for each of 162 candidates, totalling 810 fits\n"
          ]
        }
      ]
    },
    {
      "cell_type": "code",
      "source": [
        "xgb_grid.best_score_"
      ],
      "metadata": {
        "colab": {
          "base_uri": "https://localhost:8080/"
        },
        "id": "UP1T8jdtGs5T",
        "outputId": "55fc0ec0-3056-46f0-e428-2bf45a6c9e86"
      },
      "execution_count": null,
      "outputs": [
        {
          "output_type": "execute_result",
          "data": {
            "text/plain": [
              "0.9511382644652612"
            ]
          },
          "metadata": {},
          "execution_count": 113
        }
      ]
    },
    {
      "cell_type": "code",
      "source": [
        "y_pred = xgb_grid.predict(X_test)\n",
        "y_pred_proba = xgb_grid.predict_proba(X_test)\n",
        "\n",
        "xgb_f1 = f1_score(y_test, y_pred)\n",
        "xgb_recall = recall_score(y_test, y_pred)\n",
        "xgb_auc = roc_auc_score(y_test, y_pred_proba[:,1])\n",
        "\n",
        "eval_metric(xgb_grid, X_train, y_train, X_test, y_test)"
      ],
      "metadata": {
        "colab": {
          "base_uri": "https://localhost:8080/"
        },
        "id": "dDA3RhiuGwrz",
        "outputId": "c8fc208b-1a60-482e-e151-99e541d885e6"
      },
      "execution_count": null,
      "outputs": [
        {
          "output_type": "stream",
          "name": "stdout",
          "text": [
            "Test_Set\n",
            "[[1998    3]\n",
            " [  37  361]]\n",
            "              precision    recall  f1-score   support\n",
            "\n",
            "           0       0.98      1.00      0.99      2001\n",
            "           1       0.99      0.91      0.95       398\n",
            "\n",
            "    accuracy                           0.98      2399\n",
            "   macro avg       0.99      0.95      0.97      2399\n",
            "weighted avg       0.98      0.98      0.98      2399\n",
            "\n",
            "\n",
            "Train_Set\n",
            "[[7978   21]\n",
            " [ 110 1483]]\n",
            "              precision    recall  f1-score   support\n",
            "\n",
            "           0       0.99      1.00      0.99      7999\n",
            "           1       0.99      0.93      0.96      1593\n",
            "\n",
            "    accuracy                           0.99      9592\n",
            "   macro avg       0.99      0.96      0.97      9592\n",
            "weighted avg       0.99      0.99      0.99      9592\n",
            "\n"
          ]
        }
      ]
    },
    {
      "cell_type": "code",
      "source": [
        "xgb_grid.best_params_"
      ],
      "metadata": {
        "colab": {
          "base_uri": "https://localhost:8080/"
        },
        "id": "b4Q3icLVGeYY",
        "outputId": "008fecaa-98e1-48e4-cf89-5ea2b360da9f"
      },
      "execution_count": null,
      "outputs": [
        {
          "output_type": "execute_result",
          "data": {
            "text/plain": [
              "{'colsample_bytree': 0.7,\n",
              " 'learning_rate': 0.2,\n",
              " 'max_depth': 5,\n",
              " 'n_estimators': 50,\n",
              " 'subsample': 0.8}"
            ]
          },
          "metadata": {},
          "execution_count": 115
        }
      ]
    },
    {
      "cell_type": "code",
      "source": [
        "model = XGBClassifier(colsample_bytree= 0.7,learning_rate=0.2,max_depth= 5,n_estimators=50,subsample=1)\n",
        "model.fit(X_train, y_train)\n",
        "\n",
        "model.feature_importances_\n",
        "\n",
        "feats = pd.DataFrame(index=X.columns, data=model.feature_importances_, columns=['xgb_importance'])\n",
        "xgb_imp_feats = feats.sort_values(\"xgb_importance\", ascending=False)\n",
        "xgb_imp_feats"
      ],
      "metadata": {
        "colab": {
          "base_uri": "https://localhost:8080/",
          "height": 300
        },
        "id": "2X5u7wxtG5Yb",
        "outputId": "30adc482-0936-428c-b627-1fea1e0d3767"
      },
      "execution_count": null,
      "outputs": [
        {
          "output_type": "execute_result",
          "data": {
            "text/plain": [
              "                       xgb_importance\n",
              "satisfaction_level              0.343\n",
              "time_spend_company              0.201\n",
              "last_evaluation                 0.149\n",
              "number_project                  0.142\n",
              "average_montly_hours            0.097\n",
              "Work_accident                   0.041\n",
              "salary                          0.026\n",
              "promotion_last_5years           0.000"
            ],
            "text/html": [
              "\n",
              "  <div id=\"df-56a81481-7fb1-4572-8987-b77707c4777f\">\n",
              "    <div class=\"colab-df-container\">\n",
              "      <div>\n",
              "<style scoped>\n",
              "    .dataframe tbody tr th:only-of-type {\n",
              "        vertical-align: middle;\n",
              "    }\n",
              "\n",
              "    .dataframe tbody tr th {\n",
              "        vertical-align: top;\n",
              "    }\n",
              "\n",
              "    .dataframe thead th {\n",
              "        text-align: right;\n",
              "    }\n",
              "</style>\n",
              "<table border=\"1\" class=\"dataframe\">\n",
              "  <thead>\n",
              "    <tr style=\"text-align: right;\">\n",
              "      <th></th>\n",
              "      <th>xgb_importance</th>\n",
              "    </tr>\n",
              "  </thead>\n",
              "  <tbody>\n",
              "    <tr>\n",
              "      <th>satisfaction_level</th>\n",
              "      <td>0.343</td>\n",
              "    </tr>\n",
              "    <tr>\n",
              "      <th>time_spend_company</th>\n",
              "      <td>0.201</td>\n",
              "    </tr>\n",
              "    <tr>\n",
              "      <th>last_evaluation</th>\n",
              "      <td>0.149</td>\n",
              "    </tr>\n",
              "    <tr>\n",
              "      <th>number_project</th>\n",
              "      <td>0.142</td>\n",
              "    </tr>\n",
              "    <tr>\n",
              "      <th>average_montly_hours</th>\n",
              "      <td>0.097</td>\n",
              "    </tr>\n",
              "    <tr>\n",
              "      <th>Work_accident</th>\n",
              "      <td>0.041</td>\n",
              "    </tr>\n",
              "    <tr>\n",
              "      <th>salary</th>\n",
              "      <td>0.026</td>\n",
              "    </tr>\n",
              "    <tr>\n",
              "      <th>promotion_last_5years</th>\n",
              "      <td>0.000</td>\n",
              "    </tr>\n",
              "  </tbody>\n",
              "</table>\n",
              "</div>\n",
              "      <button class=\"colab-df-convert\" onclick=\"convertToInteractive('df-56a81481-7fb1-4572-8987-b77707c4777f')\"\n",
              "              title=\"Convert this dataframe to an interactive table.\"\n",
              "              style=\"display:none;\">\n",
              "        \n",
              "  <svg xmlns=\"http://www.w3.org/2000/svg\" height=\"24px\"viewBox=\"0 0 24 24\"\n",
              "       width=\"24px\">\n",
              "    <path d=\"M0 0h24v24H0V0z\" fill=\"none\"/>\n",
              "    <path d=\"M18.56 5.44l.94 2.06.94-2.06 2.06-.94-2.06-.94-.94-2.06-.94 2.06-2.06.94zm-11 1L8.5 8.5l.94-2.06 2.06-.94-2.06-.94L8.5 2.5l-.94 2.06-2.06.94zm10 10l.94 2.06.94-2.06 2.06-.94-2.06-.94-.94-2.06-.94 2.06-2.06.94z\"/><path d=\"M17.41 7.96l-1.37-1.37c-.4-.4-.92-.59-1.43-.59-.52 0-1.04.2-1.43.59L10.3 9.45l-7.72 7.72c-.78.78-.78 2.05 0 2.83L4 21.41c.39.39.9.59 1.41.59.51 0 1.02-.2 1.41-.59l7.78-7.78 2.81-2.81c.8-.78.8-2.07 0-2.86zM5.41 20L4 18.59l7.72-7.72 1.47 1.35L5.41 20z\"/>\n",
              "  </svg>\n",
              "      </button>\n",
              "      \n",
              "  <style>\n",
              "    .colab-df-container {\n",
              "      display:flex;\n",
              "      flex-wrap:wrap;\n",
              "      gap: 12px;\n",
              "    }\n",
              "\n",
              "    .colab-df-convert {\n",
              "      background-color: #E8F0FE;\n",
              "      border: none;\n",
              "      border-radius: 50%;\n",
              "      cursor: pointer;\n",
              "      display: none;\n",
              "      fill: #1967D2;\n",
              "      height: 32px;\n",
              "      padding: 0 0 0 0;\n",
              "      width: 32px;\n",
              "    }\n",
              "\n",
              "    .colab-df-convert:hover {\n",
              "      background-color: #E2EBFA;\n",
              "      box-shadow: 0px 1px 2px rgba(60, 64, 67, 0.3), 0px 1px 3px 1px rgba(60, 64, 67, 0.15);\n",
              "      fill: #174EA6;\n",
              "    }\n",
              "\n",
              "    [theme=dark] .colab-df-convert {\n",
              "      background-color: #3B4455;\n",
              "      fill: #D2E3FC;\n",
              "    }\n",
              "\n",
              "    [theme=dark] .colab-df-convert:hover {\n",
              "      background-color: #434B5C;\n",
              "      box-shadow: 0px 1px 3px 1px rgba(0, 0, 0, 0.15);\n",
              "      filter: drop-shadow(0px 1px 2px rgba(0, 0, 0, 0.3));\n",
              "      fill: #FFFFFF;\n",
              "    }\n",
              "  </style>\n",
              "\n",
              "      <script>\n",
              "        const buttonEl =\n",
              "          document.querySelector('#df-56a81481-7fb1-4572-8987-b77707c4777f button.colab-df-convert');\n",
              "        buttonEl.style.display =\n",
              "          google.colab.kernel.accessAllowed ? 'block' : 'none';\n",
              "\n",
              "        async function convertToInteractive(key) {\n",
              "          const element = document.querySelector('#df-56a81481-7fb1-4572-8987-b77707c4777f');\n",
              "          const dataTable =\n",
              "            await google.colab.kernel.invokeFunction('convertToInteractive',\n",
              "                                                     [key], {});\n",
              "          if (!dataTable) return;\n",
              "\n",
              "          const docLinkHtml = 'Like what you see? Visit the ' +\n",
              "            '<a target=\"_blank\" href=https://colab.research.google.com/notebooks/data_table.ipynb>data table notebook</a>'\n",
              "            + ' to learn more about interactive tables.';\n",
              "          element.innerHTML = '';\n",
              "          dataTable['output_type'] = 'display_data';\n",
              "          await google.colab.output.renderOutput(dataTable, element);\n",
              "          const docLink = document.createElement('div');\n",
              "          docLink.innerHTML = docLinkHtml;\n",
              "          element.appendChild(docLink);\n",
              "        }\n",
              "      </script>\n",
              "    </div>\n",
              "  </div>\n",
              "  "
            ]
          },
          "metadata": {},
          "execution_count": 116
        }
      ]
    },
    {
      "cell_type": "code",
      "source": [
        "from sklearn.metrics import precision_recall_curve, plot_precision_recall_curve, plot_roc_curve, roc_auc_score"
      ],
      "metadata": {
        "id": "O3ztE79QHt-a"
      },
      "execution_count": null,
      "outputs": []
    },
    {
      "cell_type": "code",
      "source": [
        "plot_roc_curve(xgb_grid, X_test, y_test);"
      ],
      "metadata": {
        "colab": {
          "base_uri": "https://localhost:8080/",
          "height": 361
        },
        "id": "kL6OmZ4kHodZ",
        "outputId": "cefb5a37-9349-4ea3-ca5a-be6feaaecfb2"
      },
      "execution_count": null,
      "outputs": [
        {
          "output_type": "display_data",
          "data": {
            "text/plain": [
              "<Figure size 576x396 with 1 Axes>"
            ],
            "image/png": "[encoded data removed]"
          },
          "metadata": {}
        }
      ]
    },
    {
      "cell_type": "markdown",
      "metadata": {
        "id": "SKLtTwJ82som"
      },
      "source": [
        "#### Prediction"
      ]
    },
    {
      "cell_type": "code",
      "execution_count": null,
      "metadata": {
        "id": "QdFUSrml2sop"
      },
      "outputs": [],
      "source": [
        "pred_sample=df.drop(columns=['left']).sample(10)"
      ]
    },
    {
      "cell_type": "code",
      "source": [
        "pred=xgb_grid.predict(pred_sample)"
      ],
      "metadata": {
        "id": "j8ItO2yEIFx7"
      },
      "execution_count": null,
      "outputs": []
    },
    {
      "cell_type": "code",
      "source": [
        "df.iloc[pred_sample.index]['left'].values==pred\n",
        "##All of our predictions are true, our model works perfectly "
      ],
      "metadata": {
        "colab": {
          "base_uri": "https://localhost:8080/"
        },
        "id": "TRr-SL1BIVFz",
        "outputId": "56a59e64-e2d0-49f6-c7f7-0d13df3691cc"
      },
      "execution_count": null,
      "outputs": [
        {
          "output_type": "execute_result",
          "data": {
            "text/plain": [
              "array([ True,  True,  True,  True,  True,  True,  True,  True,  True,\n",
              "        True])"
            ]
          },
          "metadata": {},
          "execution_count": 121
        }
      ]
    },
    {
      "cell_type": "markdown",
      "metadata": {
        "id": "zrozB3YHQYJq"
      },
      "source": [
        "### #ANN Classifier"
      ]
    },
    {
      "cell_type": "markdown",
      "metadata": {
        "id": "GUTIjKF3QYJq"
      },
      "source": [
        "#### Layer Architecture Building and Compiling"
      ]
    },
    {
      "cell_type": "code",
      "execution_count": null,
      "metadata": {
        "id": "eDADaqNyQYJr"
      },
      "outputs": [],
      "source": [
        "import tensorflow as tf\n",
        "from tensorflow.keras.models import Sequential\n",
        "from tensorflow.keras.layers import Dense, Activation\n",
        "from sklearn.metrics import classification_report, confusion_matrix\n",
        "from sklearn.metrics import plot_roc_curve, roc_auc_score, roc_curve\n",
        "from sklearn.model_selection import cross_val_score, cross_validate\n",
        "from sklearn.model_selection import GridSearchCV"
      ]
    },
    {
      "cell_type": "code",
      "source": [
        "X_train, X_test, y_train, y_test = train_test_split(X, y, stratify = y, test_size = 0.10)\n",
        "#In this part, we split X and y again in order to increase the training data"
      ],
      "metadata": {
        "id": "TxcSOTEWaGk7"
      },
      "execution_count": null,
      "outputs": []
    },
    {
      "cell_type": "code",
      "source": [
        "X_train= scaler.fit_transform(X_train)\n",
        "X_test = scaler.transform(X_test)"
      ],
      "metadata": {
        "id": "LDYJtpMLZi1r"
      },
      "execution_count": null,
      "outputs": []
    },
    {
      "cell_type": "code",
      "source": [
        "X_train.shape,X_test.shape"
      ],
      "metadata": {
        "colab": {
          "base_uri": "https://localhost:8080/"
        },
        "id": "-G1i7K-uZ5cm",
        "outputId": "3b181385-8624-4f03-c611-82181636dd78"
      },
      "execution_count": null,
      "outputs": [
        {
          "output_type": "execute_result",
          "data": {
            "text/plain": [
              "((10791, 8), (1200, 8))"
            ]
          },
          "metadata": {},
          "execution_count": 125
        }
      ]
    },
    {
      "cell_type": "code",
      "source": [
        "\n",
        "\n",
        "model = Sequential()\n",
        "\n",
        "model.add(Dense(12, activation = \"relu\", input_dim = X_train.shape[1]))\n",
        "model.add(Dense(6, activation = \"relu\"))\n",
        "model.add(Dense(3, activation = \"relu\"))\n",
        "model.add(Dense(1, activation = \"sigmoid\"))\n",
        "\n",
        "model.compile(optimizer = \"adam\", loss = \"binary_crossentropy\", metrics = [\"accuracy\"])"
      ],
      "metadata": {
        "id": "yQ-lQz_cZGA5"
      },
      "execution_count": null,
      "outputs": []
    },
    {
      "cell_type": "code",
      "source": [
        "model.fit(x = X_train, y = y_train, validation_split = 0.1, batch_size = 32, epochs = 100, verbose=1)"
      ],
      "metadata": {
        "colab": {
          "base_uri": "https://localhost:8080/"
        },
        "id": "K6x3EJMraxeL",
        "outputId": "5244e8d7-d083-4f60-8de4-fc7199deb6cf"
      },
      "execution_count": null,
      "outputs": [
        {
          "output_type": "stream",
          "name": "stdout",
          "text": [
            "Epoch 1/100\n",
            "304/304 [==============================] - 1s 2ms/step - loss: 0.4947 - accuracy: 0.8326 - val_loss: 0.3914 - val_accuracy: 0.8444\n",
            "Epoch 2/100\n",
            "304/304 [==============================] - 1s 2ms/step - loss: 0.3838 - accuracy: 0.8328 - val_loss: 0.3439 - val_accuracy: 0.8444\n",
            "Epoch 3/100\n",
            "304/304 [==============================] - 1s 2ms/step - loss: 0.3408 - accuracy: 0.8328 - val_loss: 0.3065 - val_accuracy: 0.8444\n",
            "Epoch 4/100\n",
            "304/304 [==============================] - 0s 2ms/step - loss: 0.3094 - accuracy: 0.8366 - val_loss: 0.2734 - val_accuracy: 0.8593\n",
            "Epoch 5/100\n",
            "304/304 [==============================] - 0s 2ms/step - loss: 0.2850 - accuracy: 0.8656 - val_loss: 0.2471 - val_accuracy: 0.9065\n",
            "Epoch 6/100\n",
            "304/304 [==============================] - 1s 2ms/step - loss: 0.2607 - accuracy: 0.8852 - val_loss: 0.2139 - val_accuracy: 0.9130\n",
            "Epoch 7/100\n",
            "304/304 [==============================] - 0s 2ms/step - loss: 0.2355 - accuracy: 0.9160 - val_loss: 0.1923 - val_accuracy: 0.9213\n",
            "Epoch 8/100\n",
            "304/304 [==============================] - 0s 1ms/step - loss: 0.2194 - accuracy: 0.9318 - val_loss: 0.1809 - val_accuracy: 0.9463\n",
            "Epoch 9/100\n",
            "304/304 [==============================] - 1s 2ms/step - loss: 0.2081 - accuracy: 0.9399 - val_loss: 0.1686 - val_accuracy: 0.9472\n",
            "Epoch 10/100\n",
            "304/304 [==============================] - 1s 2ms/step - loss: 0.1992 - accuracy: 0.9434 - val_loss: 0.1591 - val_accuracy: 0.9463\n",
            "Epoch 11/100\n",
            "304/304 [==============================] - 1s 2ms/step - loss: 0.1931 - accuracy: 0.9445 - val_loss: 0.1524 - val_accuracy: 0.9463\n",
            "Epoch 12/100\n",
            "304/304 [==============================] - 1s 2ms/step - loss: 0.1873 - accuracy: 0.9460 - val_loss: 0.1442 - val_accuracy: 0.9537\n",
            "Epoch 13/100\n",
            "304/304 [==============================] - 1s 2ms/step - loss: 0.1831 - accuracy: 0.9475 - val_loss: 0.1420 - val_accuracy: 0.9583\n",
            "Epoch 14/100\n",
            "304/304 [==============================] - 1s 2ms/step - loss: 0.1797 - accuracy: 0.9492 - val_loss: 0.1418 - val_accuracy: 0.9500\n",
            "Epoch 15/100\n",
            "304/304 [==============================] - 0s 2ms/step - loss: 0.1770 - accuracy: 0.9495 - val_loss: 0.1398 - val_accuracy: 0.9528\n",
            "Epoch 16/100\n",
            "304/304 [==============================] - 1s 2ms/step - loss: 0.1743 - accuracy: 0.9495 - val_loss: 0.1324 - val_accuracy: 0.9574\n",
            "Epoch 17/100\n",
            "304/304 [==============================] - 0s 2ms/step - loss: 0.1707 - accuracy: 0.9502 - val_loss: 0.1330 - val_accuracy: 0.9546\n",
            "Epoch 18/100\n",
            "304/304 [==============================] - 0s 2ms/step - loss: 0.1689 - accuracy: 0.9511 - val_loss: 0.1299 - val_accuracy: 0.9574\n",
            "Epoch 19/100\n",
            "304/304 [==============================] - 0s 2ms/step - loss: 0.1660 - accuracy: 0.9521 - val_loss: 0.1306 - val_accuracy: 0.9556\n",
            "Epoch 20/100\n",
            "304/304 [==============================] - 1s 2ms/step - loss: 0.1643 - accuracy: 0.9506 - val_loss: 0.1233 - val_accuracy: 0.9602\n",
            "Epoch 21/100\n",
            "304/304 [==============================] - 1s 2ms/step - loss: 0.1622 - accuracy: 0.9532 - val_loss: 0.1266 - val_accuracy: 0.9574\n",
            "Epoch 22/100\n",
            "304/304 [==============================] - 0s 2ms/step - loss: 0.1610 - accuracy: 0.9541 - val_loss: 0.1179 - val_accuracy: 0.9630\n",
            "Epoch 23/100\n",
            "304/304 [==============================] - 1s 2ms/step - loss: 0.1595 - accuracy: 0.9528 - val_loss: 0.1208 - val_accuracy: 0.9602\n",
            "Epoch 24/100\n",
            "304/304 [==============================] - 0s 2ms/step - loss: 0.1582 - accuracy: 0.9527 - val_loss: 0.1340 - val_accuracy: 0.9472\n",
            "Epoch 25/100\n",
            "304/304 [==============================] - 0s 2ms/step - loss: 0.1571 - accuracy: 0.9546 - val_loss: 0.1182 - val_accuracy: 0.9620\n",
            "Epoch 26/100\n",
            "304/304 [==============================] - 1s 2ms/step - loss: 0.1555 - accuracy: 0.9553 - val_loss: 0.1161 - val_accuracy: 0.9611\n",
            "Epoch 27/100\n",
            "304/304 [==============================] - 0s 2ms/step - loss: 0.1544 - accuracy: 0.9534 - val_loss: 0.1211 - val_accuracy: 0.9537\n",
            "Epoch 28/100\n",
            "304/304 [==============================] - 1s 2ms/step - loss: 0.1534 - accuracy: 0.9545 - val_loss: 0.1159 - val_accuracy: 0.9630\n",
            "Epoch 29/100\n",
            "304/304 [==============================] - 0s 2ms/step - loss: 0.1520 - accuracy: 0.9554 - val_loss: 0.1170 - val_accuracy: 0.9620\n",
            "Epoch 30/100\n",
            "304/304 [==============================] - 0s 2ms/step - loss: 0.1507 - accuracy: 0.9560 - val_loss: 0.1080 - val_accuracy: 0.9648\n",
            "Epoch 31/100\n",
            "304/304 [==============================] - 0s 1ms/step - loss: 0.1502 - accuracy: 0.9554 - val_loss: 0.1127 - val_accuracy: 0.9593\n",
            "Epoch 32/100\n",
            "304/304 [==============================] - 0s 2ms/step - loss: 0.1496 - accuracy: 0.9551 - val_loss: 0.1112 - val_accuracy: 0.9630\n",
            "Epoch 33/100\n",
            "304/304 [==============================] - 0s 1ms/step - loss: 0.1494 - accuracy: 0.9551 - val_loss: 0.1178 - val_accuracy: 0.9565\n",
            "Epoch 34/100\n",
            "304/304 [==============================] - 1s 2ms/step - loss: 0.1478 - accuracy: 0.9557 - val_loss: 0.1131 - val_accuracy: 0.9565\n",
            "Epoch 35/100\n",
            "304/304 [==============================] - 1s 2ms/step - loss: 0.1473 - accuracy: 0.9558 - val_loss: 0.1056 - val_accuracy: 0.9676\n",
            "Epoch 36/100\n",
            "304/304 [==============================] - 1s 2ms/step - loss: 0.1465 - accuracy: 0.9571 - val_loss: 0.1124 - val_accuracy: 0.9583\n",
            "Epoch 37/100\n",
            "304/304 [==============================] - 1s 2ms/step - loss: 0.1457 - accuracy: 0.9572 - val_loss: 0.1105 - val_accuracy: 0.9602\n",
            "Epoch 38/100\n",
            "304/304 [==============================] - 1s 2ms/step - loss: 0.1450 - accuracy: 0.9566 - val_loss: 0.1109 - val_accuracy: 0.9667\n",
            "Epoch 39/100\n",
            "304/304 [==============================] - 0s 2ms/step - loss: 0.1441 - accuracy: 0.9575 - val_loss: 0.1168 - val_accuracy: 0.9611\n",
            "Epoch 40/100\n",
            "304/304 [==============================] - 1s 2ms/step - loss: 0.1432 - accuracy: 0.9570 - val_loss: 0.1061 - val_accuracy: 0.9657\n",
            "Epoch 41/100\n",
            "304/304 [==============================] - 1s 2ms/step - loss: 0.1427 - accuracy: 0.9576 - val_loss: 0.1044 - val_accuracy: 0.9667\n",
            "Epoch 42/100\n",
            "304/304 [==============================] - 1s 2ms/step - loss: 0.1432 - accuracy: 0.9572 - val_loss: 0.1078 - val_accuracy: 0.9713\n",
            "Epoch 43/100\n",
            "304/304 [==============================] - 1s 2ms/step - loss: 0.1416 - accuracy: 0.9576 - val_loss: 0.1010 - val_accuracy: 0.9657\n",
            "Epoch 44/100\n",
            "304/304 [==============================] - 1s 2ms/step - loss: 0.1411 - accuracy: 0.9582 - val_loss: 0.1038 - val_accuracy: 0.9648\n",
            "Epoch 45/100\n",
            "304/304 [==============================] - 1s 2ms/step - loss: 0.1408 - accuracy: 0.9581 - val_loss: 0.1043 - val_accuracy: 0.9694\n",
            "Epoch 46/100\n",
            "304/304 [==============================] - 1s 2ms/step - loss: 0.1394 - accuracy: 0.9590 - val_loss: 0.1051 - val_accuracy: 0.9667\n",
            "Epoch 47/100\n",
            "304/304 [==============================] - 1s 2ms/step - loss: 0.1399 - accuracy: 0.9571 - val_loss: 0.1020 - val_accuracy: 0.9667\n",
            "Epoch 48/100\n",
            "304/304 [==============================] - 1s 2ms/step - loss: 0.1382 - accuracy: 0.9592 - val_loss: 0.0994 - val_accuracy: 0.9694\n",
            "Epoch 49/100\n",
            "304/304 [==============================] - 0s 1ms/step - loss: 0.1384 - accuracy: 0.9585 - val_loss: 0.0991 - val_accuracy: 0.9676\n",
            "Epoch 50/100\n",
            "304/304 [==============================] - 1s 2ms/step - loss: 0.1375 - accuracy: 0.9587 - val_loss: 0.1021 - val_accuracy: 0.9676\n",
            "Epoch 51/100\n",
            "304/304 [==============================] - 0s 2ms/step - loss: 0.1369 - accuracy: 0.9588 - val_loss: 0.0943 - val_accuracy: 0.9713\n",
            "Epoch 52/100\n",
            "304/304 [==============================] - 1s 2ms/step - loss: 0.1357 - accuracy: 0.9604 - val_loss: 0.0966 - val_accuracy: 0.9713\n",
            "Epoch 53/100\n",
            "304/304 [==============================] - 1s 2ms/step - loss: 0.1340 - accuracy: 0.9594 - val_loss: 0.0960 - val_accuracy: 0.9676\n",
            "Epoch 54/100\n",
            "304/304 [==============================] - 1s 2ms/step - loss: 0.1328 - accuracy: 0.9601 - val_loss: 0.0950 - val_accuracy: 0.9722\n",
            "Epoch 55/100\n",
            "304/304 [==============================] - 0s 2ms/step - loss: 0.1317 - accuracy: 0.9617 - val_loss: 0.0912 - val_accuracy: 0.9778\n",
            "Epoch 56/100\n",
            "304/304 [==============================] - 1s 2ms/step - loss: 0.1299 - accuracy: 0.9618 - val_loss: 0.0951 - val_accuracy: 0.9731\n",
            "Epoch 57/100\n",
            "304/304 [==============================] - 0s 2ms/step - loss: 0.1297 - accuracy: 0.9622 - val_loss: 0.0875 - val_accuracy: 0.9722\n",
            "Epoch 58/100\n",
            "304/304 [==============================] - 1s 2ms/step - loss: 0.1283 - accuracy: 0.9626 - val_loss: 0.0933 - val_accuracy: 0.9731\n",
            "Epoch 59/100\n",
            "304/304 [==============================] - 1s 2ms/step - loss: 0.1273 - accuracy: 0.9633 - val_loss: 0.0876 - val_accuracy: 0.9741\n",
            "Epoch 60/100\n",
            "304/304 [==============================] - 1s 2ms/step - loss: 0.1261 - accuracy: 0.9640 - val_loss: 0.0866 - val_accuracy: 0.9731\n",
            "Epoch 61/100\n",
            "304/304 [==============================] - 1s 2ms/step - loss: 0.1256 - accuracy: 0.9630 - val_loss: 0.0864 - val_accuracy: 0.9769\n",
            "Epoch 62/100\n",
            "304/304 [==============================] - 0s 2ms/step - loss: 0.1245 - accuracy: 0.9628 - val_loss: 0.0904 - val_accuracy: 0.9741\n",
            "Epoch 63/100\n",
            "304/304 [==============================] - 1s 2ms/step - loss: 0.1231 - accuracy: 0.9647 - val_loss: 0.0838 - val_accuracy: 0.9769\n",
            "Epoch 64/100\n",
            "304/304 [==============================] - 0s 2ms/step - loss: 0.1232 - accuracy: 0.9653 - val_loss: 0.0846 - val_accuracy: 0.9750\n",
            "Epoch 65/100\n",
            "304/304 [==============================] - 1s 2ms/step - loss: 0.1218 - accuracy: 0.9653 - val_loss: 0.0798 - val_accuracy: 0.9806\n",
            "Epoch 66/100\n",
            "304/304 [==============================] - 0s 2ms/step - loss: 0.1201 - accuracy: 0.9654 - val_loss: 0.0826 - val_accuracy: 0.9787\n",
            "Epoch 67/100\n",
            "304/304 [==============================] - 1s 2ms/step - loss: 0.1194 - accuracy: 0.9659 - val_loss: 0.0818 - val_accuracy: 0.9815\n",
            "Epoch 68/100\n",
            "304/304 [==============================] - 0s 2ms/step - loss: 0.1190 - accuracy: 0.9666 - val_loss: 0.0783 - val_accuracy: 0.9824\n",
            "Epoch 69/100\n",
            "304/304 [==============================] - 1s 2ms/step - loss: 0.1181 - accuracy: 0.9668 - val_loss: 0.0770 - val_accuracy: 0.9815\n",
            "Epoch 70/100\n",
            "304/304 [==============================] - 0s 2ms/step - loss: 0.1173 - accuracy: 0.9662 - val_loss: 0.0817 - val_accuracy: 0.9787\n",
            "Epoch 71/100\n",
            "304/304 [==============================] - 1s 2ms/step - loss: 0.1169 - accuracy: 0.9666 - val_loss: 0.0750 - val_accuracy: 0.9824\n",
            "Epoch 72/100\n",
            "304/304 [==============================] - 1s 2ms/step - loss: 0.1147 - accuracy: 0.9679 - val_loss: 0.0814 - val_accuracy: 0.9824\n",
            "Epoch 73/100\n",
            "304/304 [==============================] - 1s 2ms/step - loss: 0.1145 - accuracy: 0.9678 - val_loss: 0.0755 - val_accuracy: 0.9833\n",
            "Epoch 74/100\n",
            "304/304 [==============================] - 1s 2ms/step - loss: 0.1142 - accuracy: 0.9688 - val_loss: 0.0729 - val_accuracy: 0.9796\n",
            "Epoch 75/100\n",
            "304/304 [==============================] - 1s 2ms/step - loss: 0.1136 - accuracy: 0.9681 - val_loss: 0.0724 - val_accuracy: 0.9824\n",
            "Epoch 76/100\n",
            "304/304 [==============================] - 1s 2ms/step - loss: 0.1126 - accuracy: 0.9687 - val_loss: 0.0741 - val_accuracy: 0.9815\n",
            "Epoch 77/100\n",
            "304/304 [==============================] - 1s 2ms/step - loss: 0.1115 - accuracy: 0.9701 - val_loss: 0.0701 - val_accuracy: 0.9824\n",
            "Epoch 78/100\n",
            "304/304 [==============================] - 0s 2ms/step - loss: 0.1120 - accuracy: 0.9683 - val_loss: 0.0729 - val_accuracy: 0.9833\n",
            "Epoch 79/100\n",
            "304/304 [==============================] - 1s 2ms/step - loss: 0.1115 - accuracy: 0.9692 - val_loss: 0.0759 - val_accuracy: 0.9787\n",
            "Epoch 80/100\n",
            "304/304 [==============================] - 0s 2ms/step - loss: 0.1103 - accuracy: 0.9694 - val_loss: 0.0791 - val_accuracy: 0.9787\n",
            "Epoch 81/100\n",
            "304/304 [==============================] - 1s 2ms/step - loss: 0.1106 - accuracy: 0.9689 - val_loss: 0.0690 - val_accuracy: 0.9815\n",
            "Epoch 82/100\n",
            "304/304 [==============================] - 1s 2ms/step - loss: 0.1094 - accuracy: 0.9696 - val_loss: 0.0750 - val_accuracy: 0.9815\n",
            "Epoch 83/100\n",
            "304/304 [==============================] - 1s 2ms/step - loss: 0.1096 - accuracy: 0.9701 - val_loss: 0.0725 - val_accuracy: 0.9815\n",
            "Epoch 84/100\n",
            "304/304 [==============================] - 0s 2ms/step - loss: 0.1094 - accuracy: 0.9686 - val_loss: 0.0681 - val_accuracy: 0.9833\n",
            "Epoch 85/100\n",
            "304/304 [==============================] - 1s 2ms/step - loss: 0.1085 - accuracy: 0.9700 - val_loss: 0.0680 - val_accuracy: 0.9833\n",
            "Epoch 86/100\n",
            "304/304 [==============================] - 1s 2ms/step - loss: 0.1086 - accuracy: 0.9701 - val_loss: 0.0722 - val_accuracy: 0.9787\n",
            "Epoch 87/100\n",
            "304/304 [==============================] - 1s 2ms/step - loss: 0.1078 - accuracy: 0.9699 - val_loss: 0.0731 - val_accuracy: 0.9824\n",
            "Epoch 88/100\n",
            "304/304 [==============================] - 0s 2ms/step - loss: 0.1074 - accuracy: 0.9701 - val_loss: 0.0666 - val_accuracy: 0.9843\n",
            "Epoch 89/100\n",
            "304/304 [==============================] - 1s 2ms/step - loss: 0.1063 - accuracy: 0.9705 - val_loss: 0.0750 - val_accuracy: 0.9796\n",
            "Epoch 90/100\n",
            "304/304 [==============================] - 1s 2ms/step - loss: 0.1077 - accuracy: 0.9702 - val_loss: 0.0689 - val_accuracy: 0.9833\n",
            "Epoch 91/100\n",
            "304/304 [==============================] - 1s 2ms/step - loss: 0.1062 - accuracy: 0.9718 - val_loss: 0.0747 - val_accuracy: 0.9787\n",
            "Epoch 92/100\n",
            "304/304 [==============================] - 1s 2ms/step - loss: 0.1062 - accuracy: 0.9705 - val_loss: 0.0684 - val_accuracy: 0.9815\n",
            "Epoch 93/100\n",
            "304/304 [==============================] - 1s 2ms/step - loss: 0.1059 - accuracy: 0.9713 - val_loss: 0.0682 - val_accuracy: 0.9815\n",
            "Epoch 94/100\n",
            "304/304 [==============================] - 0s 2ms/step - loss: 0.1058 - accuracy: 0.9712 - val_loss: 0.0718 - val_accuracy: 0.9815\n",
            "Epoch 95/100\n",
            "304/304 [==============================] - 0s 1ms/step - loss: 0.1054 - accuracy: 0.9710 - val_loss: 0.0678 - val_accuracy: 0.9833\n",
            "Epoch 96/100\n",
            "304/304 [==============================] - 1s 2ms/step - loss: 0.1059 - accuracy: 0.9714 - val_loss: 0.0660 - val_accuracy: 0.9833\n",
            "Epoch 97/100\n",
            "304/304 [==============================] - 0s 2ms/step - loss: 0.1051 - accuracy: 0.9707 - val_loss: 0.0666 - val_accuracy: 0.9815\n",
            "Epoch 98/100\n",
            "304/304 [==============================] - 1s 2ms/step - loss: 0.1049 - accuracy: 0.9721 - val_loss: 0.0657 - val_accuracy: 0.9843\n",
            "Epoch 99/100\n",
            "304/304 [==============================] - 1s 2ms/step - loss: 0.1046 - accuracy: 0.9718 - val_loss: 0.0724 - val_accuracy: 0.9815\n",
            "Epoch 100/100\n",
            "304/304 [==============================] - 1s 2ms/step - loss: 0.1045 - accuracy: 0.9708 - val_loss: 0.0680 - val_accuracy: 0.9815\n"
          ]
        },
        {
          "output_type": "execute_result",
          "data": {
            "text/plain": [
              "<keras.callbacks.History at 0x7f7604d38d50>"
            ]
          },
          "metadata": {},
          "execution_count": 127
        }
      ]
    },
    {
      "cell_type": "markdown",
      "metadata": {
        "id": "r8IcTlRxQYJr"
      },
      "source": [
        "#### Evaluating Model Performance and Tunning"
      ]
    },
    {
      "cell_type": "code",
      "source": [
        "pd.DataFrame(model.history.history)"
      ],
      "metadata": {
        "colab": {
          "base_uri": "https://localhost:8080/",
          "height": 1000
        },
        "id": "mW1L9a0NbTie",
        "outputId": "92554387-2356-44c2-ebb6-c143d98355cb"
      },
      "execution_count": null,
      "outputs": [
        {
          "output_type": "execute_result",
          "data": {
            "text/plain": [
              "    loss  accuracy  val_loss  val_accuracy\n",
              "0  0.495     0.833     0.391         0.844\n",
              "1  0.384     0.833     0.344         0.844\n",
              "2  0.341     0.833     0.306         0.844\n",
              "3  0.309     0.837     0.273         0.859\n",
              "4  0.285     0.866     0.247         0.906\n",
              "5  0.261     0.885     0.214         0.913\n",
              "6  0.236     0.916     0.192         0.921\n",
              "7  0.219     0.932     0.181         0.946\n",
              "8  0.208     0.940     0.169         0.947\n",
              "9  0.199     0.943     0.159         0.946\n",
              "10 0.193     0.944     0.152         0.946\n",
              "11 0.187     0.946     0.144         0.954\n",
              "12 0.183     0.947     0.142         0.958\n",
              "13 0.180     0.949     0.142         0.950\n",
              "14 0.177     0.950     0.140         0.953\n",
              "15 0.174     0.950     0.132         0.957\n",
              "16 0.171     0.950     0.133         0.955\n",
              "17 0.169     0.951     0.130         0.957\n",
              "18 0.166     0.952     0.131         0.956\n",
              "19 0.164     0.951     0.123         0.960\n",
              "20 0.162     0.953     0.127         0.957\n",
              "21 0.161     0.954     0.118         0.963\n",
              "22 0.159     0.953     0.121         0.960\n",
              "23 0.158     0.953     0.134         0.947\n",
              "24 0.157     0.955     0.118         0.962\n",
              "25 0.155     0.955     0.116         0.961\n",
              "26 0.154     0.953     0.121         0.954\n",
              "27 0.153     0.954     0.116         0.963\n",
              "28 0.152     0.955     0.117         0.962\n",
              "29 0.151     0.956     0.108         0.965\n",
              "30 0.150     0.955     0.113         0.959\n",
              "31 0.150     0.955     0.111         0.963\n",
              "32 0.149     0.955     0.118         0.956\n",
              "33 0.148     0.956     0.113         0.956\n",
              "34 0.147     0.956     0.106         0.968\n",
              "35 0.146     0.957     0.112         0.958\n",
              "36 0.146     0.957     0.111         0.960\n",
              "37 0.145     0.957     0.111         0.967\n",
              "38 0.144     0.957     0.117         0.961\n",
              "39 0.143     0.957     0.106         0.966\n",
              "40 0.143     0.958     0.104         0.967\n",
              "41 0.143     0.957     0.108         0.971\n",
              "42 0.142     0.958     0.101         0.966\n",
              "43 0.141     0.958     0.104         0.965\n",
              "44 0.141     0.958     0.104         0.969\n",
              "45 0.139     0.959     0.105         0.967\n",
              "46 0.140     0.957     0.102         0.967\n",
              "47 0.138     0.959     0.099         0.969\n",
              "48 0.138     0.959     0.099         0.968\n",
              "49 0.138     0.959     0.102         0.968\n",
              "50 0.137     0.959     0.094         0.971\n",
              "51 0.136     0.960     0.097         0.971\n",
              "52 0.134     0.959     0.096         0.968\n",
              "53 0.133     0.960     0.095         0.972\n",
              "54 0.132     0.962     0.091         0.978\n",
              "55 0.130     0.962     0.095         0.973\n",
              "56 0.130     0.962     0.088         0.972\n",
              "57 0.128     0.963     0.093         0.973\n",
              "58 0.127     0.963     0.088         0.974\n",
              "59 0.126     0.964     0.087         0.973\n",
              "60 0.126     0.963     0.086         0.977\n",
              "61 0.124     0.963     0.090         0.974\n",
              "62 0.123     0.965     0.084         0.977\n",
              "63 0.123     0.965     0.085         0.975\n",
              "64 0.122     0.965     0.080         0.981\n",
              "65 0.120     0.965     0.083         0.979\n",
              "66 0.119     0.966     0.082         0.981\n",
              "67 0.119     0.967     0.078         0.982\n",
              "68 0.118     0.967     0.077         0.981\n",
              "69 0.117     0.966     0.082         0.979\n",
              "70 0.117     0.967     0.075         0.982\n",
              "71 0.115     0.968     0.081         0.982\n",
              "72 0.115     0.968     0.075         0.983\n",
              "73 0.114     0.969     0.073         0.980\n",
              "74 0.114     0.968     0.072         0.982\n",
              "75 0.113     0.969     0.074         0.981\n",
              "76 0.112     0.970     0.070         0.982\n",
              "77 0.112     0.968     0.073         0.983\n",
              "78 0.112     0.969     0.076         0.979\n",
              "79 0.110     0.969     0.079         0.979\n",
              "80 0.111     0.969     0.069         0.981\n",
              "81 0.109     0.970     0.075         0.981\n",
              "82 0.110     0.970     0.073         0.981\n",
              "83 0.109     0.969     0.068         0.983\n",
              "84 0.109     0.970     0.068         0.983\n",
              "85 0.109     0.970     0.072         0.979\n",
              "86 0.108     0.970     0.073         0.982\n",
              "87 0.107     0.970     0.067         0.984\n",
              "88 0.106     0.971     0.075         0.980\n",
              "89 0.108     0.970     0.069         0.983\n",
              "90 0.106     0.972     0.075         0.979\n",
              "91 0.106     0.971     0.068         0.981\n",
              "92 0.106     0.971     0.068         0.981\n",
              "93 0.106     0.971     0.072         0.981\n",
              "94 0.105     0.971     0.068         0.983\n",
              "95 0.106     0.971     0.066         0.983\n",
              "96 0.105     0.971     0.067         0.981\n",
              "97 0.105     0.972     0.066         0.984\n",
              "98 0.105     0.972     0.072         0.981\n",
              "99 0.105     0.971     0.068         0.981"
            ],
            "text/html": [
              "\n",
              "  <div id=\"df-e30f6dcb-2f34-481e-871e-7e734ffdc36e\">\n",
              "    <div class=\"colab-df-container\">\n",
              "      <div>\n",
              "<style scoped>\n",
              "    .dataframe tbody tr th:only-of-type {\n",
              "        vertical-align: middle;\n",
              "    }\n",
              "\n",
              "    .dataframe tbody tr th {\n",
              "        vertical-align: top;\n",
              "    }\n",
              "\n",
              "    .dataframe thead th {\n",
              "        text-align: right;\n",
              "    }\n",
              "</style>\n",
              "<table border=\"1\" class=\"dataframe\">\n",
              "  <thead>\n",
              "    <tr style=\"text-align: right;\">\n",
              "      <th></th>\n",
              "      <th>loss</th>\n",
              "      <th>accuracy</th>\n",
              "      <th>val_loss</th>\n",
              "      <th>val_accuracy</th>\n",
              "    </tr>\n",
              "  </thead>\n",
              "  <tbody>\n",
              "    <tr>\n",
              "      <th>0</th>\n",
              "      <td>0.495</td>\n",
              "      <td>0.833</td>\n",
              "      <td>0.391</td>\n",
              "      <td>0.844</td>\n",
              "    </tr>\n",
              "    <tr>\n",
              "      <th>1</th>\n",
              "      <td>0.384</td>\n",
              "      <td>0.833</td>\n",
              "      <td>0.344</td>\n",
              "      <td>0.844</td>\n",
              "    </tr>\n",
              "    <tr>\n",
              "      <th>2</th>\n",
              "      <td>0.341</td>\n",
              "      <td>0.833</td>\n",
              "      <td>0.306</td>\n",
              "      <td>0.844</td>\n",
              "    </tr>\n",
              "    <tr>\n",
              "      <th>3</th>\n",
              "      <td>0.309</td>\n",
              "      <td>0.837</td>\n",
              "      <td>0.273</td>\n",
              "      <td>0.859</td>\n",
              "    </tr>\n",
              "    <tr>\n",
              "      <th>4</th>\n",
              "      <td>0.285</td>\n",
              "      <td>0.866</td>\n",
              "      <td>0.247</td>\n",
              "      <td>0.906</td>\n",
              "    </tr>\n",
              "    <tr>\n",
              "      <th>5</th>\n",
              "      <td>0.261</td>\n",
              "      <td>0.885</td>\n",
              "      <td>0.214</td>\n",
              "      <td>0.913</td>\n",
              "    </tr>\n",
              "    <tr>\n",
              "      <th>6</th>\n",
              "      <td>0.236</td>\n",
              "      <td>0.916</td>\n",
              "      <td>0.192</td>\n",
              "      <td>0.921</td>\n",
              "    </tr>\n",
              "    <tr>\n",
              "      <th>7</th>\n",
              "      <td>0.219</td>\n",
              "      <td>0.932</td>\n",
              "      <td>0.181</td>\n",
              "      <td>0.946</td>\n",
              "    </tr>\n",
              "    <tr>\n",
              "      <th>8</th>\n",
              "      <td>0.208</td>\n",
              "      <td>0.940</td>\n",
              "      <td>0.169</td>\n",
              "      <td>0.947</td>\n",
              "    </tr>\n",
              "    <tr>\n",
              "      <th>9</th>\n",
              "      <td>0.199</td>\n",
              "      <td>0.943</td>\n",
              "      <td>0.159</td>\n",
              "      <td>0.946</td>\n",
              "    </tr>\n",
              "    <tr>\n",
              "      <th>10</th>\n",
              "      <td>0.193</td>\n",
              "      <td>0.944</td>\n",
              "      <td>0.152</td>\n",
              "      <td>0.946</td>\n",
              "    </tr>\n",
              "    <tr>\n",
              "      <th>11</th>\n",
              "      <td>0.187</td>\n",
              "      <td>0.946</td>\n",
              "      <td>0.144</td>\n",
              "      <td>0.954</td>\n",
              "    </tr>\n",
              "    <tr>\n",
              "      <th>12</th>\n",
              "      <td>0.183</td>\n",
              "      <td>0.947</td>\n",
              "      <td>0.142</td>\n",
              "      <td>0.958</td>\n",
              "    </tr>\n",
              "    <tr>\n",
              "      <th>13</th>\n",
              "      <td>0.180</td>\n",
              "      <td>0.949</td>\n",
              "      <td>0.142</td>\n",
              "      <td>0.950</td>\n",
              "    </tr>\n",
              "    <tr>\n",
              "      <th>14</th>\n",
              "      <td>0.177</td>\n",
              "      <td>0.950</td>\n",
              "      <td>0.140</td>\n",
              "      <td>0.953</td>\n",
              "    </tr>\n",
              "    <tr>\n",
              "      <th>15</th>\n",
              "      <td>0.174</td>\n",
              "      <td>0.950</td>\n",
              "      <td>0.132</td>\n",
              "      <td>0.957</td>\n",
              "    </tr>\n",
              "    <tr>\n",
              "      <th>16</th>\n",
              "      <td>0.171</td>\n",
              "      <td>0.950</td>\n",
              "      <td>0.133</td>\n",
              "      <td>0.955</td>\n",
              "    </tr>\n",
              "    <tr>\n",
              "      <th>17</th>\n",
              "      <td>0.169</td>\n",
              "      <td>0.951</td>\n",
              "      <td>0.130</td>\n",
              "      <td>0.957</td>\n",
              "    </tr>\n",
              "    <tr>\n",
              "      <th>18</th>\n",
              "      <td>0.166</td>\n",
              "      <td>0.952</td>\n",
              "      <td>0.131</td>\n",
              "      <td>0.956</td>\n",
              "    </tr>\n",
              "    <tr>\n",
              "      <th>19</th>\n",
              "      <td>0.164</td>\n",
              "      <td>0.951</td>\n",
              "      <td>0.123</td>\n",
              "      <td>0.960</td>\n",
              "    </tr>\n",
              "    <tr>\n",
              "      <th>20</th>\n",
              "      <td>0.162</td>\n",
              "      <td>0.953</td>\n",
              "      <td>0.127</td>\n",
              "      <td>0.957</td>\n",
              "    </tr>\n",
              "    <tr>\n",
              "      <th>21</th>\n",
              "      <td>0.161</td>\n",
              "      <td>0.954</td>\n",
              "      <td>0.118</td>\n",
              "      <td>0.963</td>\n",
              "    </tr>\n",
              "    <tr>\n",
              "      <th>22</th>\n",
              "      <td>0.159</td>\n",
              "      <td>0.953</td>\n",
              "      <td>0.121</td>\n",
              "      <td>0.960</td>\n",
              "    </tr>\n",
              "    <tr>\n",
              "      <th>23</th>\n",
              "      <td>0.158</td>\n",
              "      <td>0.953</td>\n",
              "      <td>0.134</td>\n",
              "      <td>0.947</td>\n",
              "    </tr>\n",
              "    <tr>\n",
              "      <th>24</th>\n",
              "      <td>0.157</td>\n",
              "      <td>0.955</td>\n",
              "      <td>0.118</td>\n",
              "      <td>0.962</td>\n",
              "    </tr>\n",
              "    <tr>\n",
              "      <th>25</th>\n",
              "      <td>0.155</td>\n",
              "      <td>0.955</td>\n",
              "      <td>0.116</td>\n",
              "      <td>0.961</td>\n",
              "    </tr>\n",
              "    <tr>\n",
              "      <th>26</th>\n",
              "      <td>0.154</td>\n",
              "      <td>0.953</td>\n",
              "      <td>0.121</td>\n",
              "      <td>0.954</td>\n",
              "    </tr>\n",
              "    <tr>\n",
              "      <th>27</th>\n",
              "      <td>0.153</td>\n",
              "      <td>0.954</td>\n",
              "      <td>0.116</td>\n",
              "      <td>0.963</td>\n",
              "    </tr>\n",
              "    <tr>\n",
              "      <th>28</th>\n",
              "      <td>0.152</td>\n",
              "      <td>0.955</td>\n",
              "      <td>0.117</td>\n",
              "      <td>0.962</td>\n",
              "    </tr>\n",
              "    <tr>\n",
              "      <th>29</th>\n",
              "      <td>0.151</td>\n",
              "      <td>0.956</td>\n",
              "      <td>0.108</td>\n",
              "      <td>0.965</td>\n",
              "    </tr>\n",
              "    <tr>\n",
              "      <th>30</th>\n",
              "      <td>0.150</td>\n",
              "      <td>0.955</td>\n",
              "      <td>0.113</td>\n",
              "      <td>0.959</td>\n",
              "    </tr>\n",
              "    <tr>\n",
              "      <th>31</th>\n",
              "      <td>0.150</td>\n",
              "      <td>0.955</td>\n",
              "      <td>0.111</td>\n",
              "      <td>0.963</td>\n",
              "    </tr>\n",
              "    <tr>\n",
              "      <th>32</th>\n",
              "      <td>0.149</td>\n",
              "      <td>0.955</td>\n",
              "      <td>0.118</td>\n",
              "      <td>0.956</td>\n",
              "    </tr>\n",
              "    <tr>\n",
              "      <th>33</th>\n",
              "      <td>0.148</td>\n",
              "      <td>0.956</td>\n",
              "      <td>0.113</td>\n",
              "      <td>0.956</td>\n",
              "    </tr>\n",
              "    <tr>\n",
              "      <th>34</th>\n",
              "      <td>0.147</td>\n",
              "      <td>0.956</td>\n",
              "      <td>0.106</td>\n",
              "      <td>0.968</td>\n",
              "    </tr>\n",
              "    <tr>\n",
              "      <th>35</th>\n",
              "      <td>0.146</td>\n",
              "      <td>0.957</td>\n",
              "      <td>0.112</td>\n",
              "      <td>0.958</td>\n",
              "    </tr>\n",
              "    <tr>\n",
              "      <th>36</th>\n",
              "      <td>0.146</td>\n",
              "      <td>0.957</td>\n",
              "      <td>0.111</td>\n",
              "      <td>0.960</td>\n",
              "    </tr>\n",
              "    <tr>\n",
              "      <th>37</th>\n",
              "      <td>0.145</td>\n",
              "      <td>0.957</td>\n",
              "      <td>0.111</td>\n",
              "      <td>0.967</td>\n",
              "    </tr>\n",
              "    <tr>\n",
              "      <th>38</th>\n",
              "      <td>0.144</td>\n",
              "      <td>0.957</td>\n",
              "      <td>0.117</td>\n",
              "      <td>0.961</td>\n",
              "    </tr>\n",
              "    <tr>\n",
              "      <th>39</th>\n",
              "      <td>0.143</td>\n",
              "      <td>0.957</td>\n",
              "      <td>0.106</td>\n",
              "      <td>0.966</td>\n",
              "    </tr>\n",
              "    <tr>\n",
              "      <th>40</th>\n",
              "      <td>0.143</td>\n",
              "      <td>0.958</td>\n",
              "      <td>0.104</td>\n",
              "      <td>0.967</td>\n",
              "    </tr>\n",
              "    <tr>\n",
              "      <th>41</th>\n",
              "      <td>0.143</td>\n",
              "      <td>0.957</td>\n",
              "      <td>0.108</td>\n",
              "      <td>0.971</td>\n",
              "    </tr>\n",
              "    <tr>\n",
              "      <th>42</th>\n",
              "      <td>0.142</td>\n",
              "      <td>0.958</td>\n",
              "      <td>0.101</td>\n",
              "      <td>0.966</td>\n",
              "    </tr>\n",
              "    <tr>\n",
              "      <th>43</th>\n",
              "      <td>0.141</td>\n",
              "      <td>0.958</td>\n",
              "      <td>0.104</td>\n",
              "      <td>0.965</td>\n",
              "    </tr>\n",
              "    <tr>\n",
              "      <th>44</th>\n",
              "      <td>0.141</td>\n",
              "      <td>0.958</td>\n",
              "      <td>0.104</td>\n",
              "      <td>0.969</td>\n",
              "    </tr>\n",
              "    <tr>\n",
              "      <th>45</th>\n",
              "      <td>0.139</td>\n",
              "      <td>0.959</td>\n",
              "      <td>0.105</td>\n",
              "      <td>0.967</td>\n",
              "    </tr>\n",
              "    <tr>\n",
              "      <th>46</th>\n",
              "      <td>0.140</td>\n",
              "      <td>0.957</td>\n",
              "      <td>0.102</td>\n",
              "      <td>0.967</td>\n",
              "    </tr>\n",
              "    <tr>\n",
              "      <th>47</th>\n",
              "      <td>0.138</td>\n",
              "      <td>0.959</td>\n",
              "      <td>0.099</td>\n",
              "      <td>0.969</td>\n",
              "    </tr>\n",
              "    <tr>\n",
              "      <th>48</th>\n",
              "      <td>0.138</td>\n",
              "      <td>0.959</td>\n",
              "      <td>0.099</td>\n",
              "      <td>0.968</td>\n",
              "    </tr>\n",
              "    <tr>\n",
              "      <th>49</th>\n",
              "      <td>0.138</td>\n",
              "      <td>0.959</td>\n",
              "      <td>0.102</td>\n",
              "      <td>0.968</td>\n",
              "    </tr>\n",
              "    <tr>\n",
              "      <th>50</th>\n",
              "      <td>0.137</td>\n",
              "      <td>0.959</td>\n",
              "      <td>0.094</td>\n",
              "      <td>0.971</td>\n",
              "    </tr>\n",
              "    <tr>\n",
              "      <th>51</th>\n",
              "      <td>0.136</td>\n",
              "      <td>0.960</td>\n",
              "      <td>0.097</td>\n",
              "      <td>0.971</td>\n",
              "    </tr>\n",
              "    <tr>\n",
              "      <th>52</th>\n",
              "      <td>0.134</td>\n",
              "      <td>0.959</td>\n",
              "      <td>0.096</td>\n",
              "      <td>0.968</td>\n",
              "    </tr>\n",
              "    <tr>\n",
              "      <th>53</th>\n",
              "      <td>0.133</td>\n",
              "      <td>0.960</td>\n",
              "      <td>0.095</td>\n",
              "      <td>0.972</td>\n",
              "    </tr>\n",
              "    <tr>\n",
              "      <th>54</th>\n",
              "      <td>0.132</td>\n",
              "      <td>0.962</td>\n",
              "      <td>0.091</td>\n",
              "      <td>0.978</td>\n",
              "    </tr>\n",
              "    <tr>\n",
              "      <th>55</th>\n",
              "      <td>0.130</td>\n",
              "      <td>0.962</td>\n",
              "      <td>0.095</td>\n",
              "      <td>0.973</td>\n",
              "    </tr>\n",
              "    <tr>\n",
              "      <th>56</th>\n",
              "      <td>0.130</td>\n",
              "      <td>0.962</td>\n",
              "      <td>0.088</td>\n",
              "      <td>0.972</td>\n",
              "    </tr>\n",
              "    <tr>\n",
              "      <th>57</th>\n",
              "      <td>0.128</td>\n",
              "      <td>0.963</td>\n",
              "      <td>0.093</td>\n",
              "      <td>0.973</td>\n",
              "    </tr>\n",
              "    <tr>\n",
              "      <th>58</th>\n",
              "      <td>0.127</td>\n",
              "      <td>0.963</td>\n",
              "      <td>0.088</td>\n",
              "      <td>0.974</td>\n",
              "    </tr>\n",
              "    <tr>\n",
              "      <th>59</th>\n",
              "      <td>0.126</td>\n",
              "      <td>0.964</td>\n",
              "      <td>0.087</td>\n",
              "      <td>0.973</td>\n",
              "    </tr>\n",
              "    <tr>\n",
              "      <th>60</th>\n",
              "      <td>0.126</td>\n",
              "      <td>0.963</td>\n",
              "      <td>0.086</td>\n",
              "      <td>0.977</td>\n",
              "    </tr>\n",
              "    <tr>\n",
              "      <th>61</th>\n",
              "      <td>0.124</td>\n",
              "      <td>0.963</td>\n",
              "      <td>0.090</td>\n",
              "      <td>0.974</td>\n",
              "    </tr>\n",
              "    <tr>\n",
              "      <th>62</th>\n",
              "      <td>0.123</td>\n",
              "      <td>0.965</td>\n",
              "      <td>0.084</td>\n",
              "      <td>0.977</td>\n",
              "    </tr>\n",
              "    <tr>\n",
              "      <th>63</th>\n",
              "      <td>0.123</td>\n",
              "      <td>0.965</td>\n",
              "      <td>0.085</td>\n",
              "      <td>0.975</td>\n",
              "    </tr>\n",
              "    <tr>\n",
              "      <th>64</th>\n",
              "      <td>0.122</td>\n",
              "      <td>0.965</td>\n",
              "      <td>0.080</td>\n",
              "      <td>0.981</td>\n",
              "    </tr>\n",
              "    <tr>\n",
              "      <th>65</th>\n",
              "      <td>0.120</td>\n",
              "      <td>0.965</td>\n",
              "      <td>0.083</td>\n",
              "      <td>0.979</td>\n",
              "    </tr>\n",
              "    <tr>\n",
              "      <th>66</th>\n",
              "      <td>0.119</td>\n",
              "      <td>0.966</td>\n",
              "      <td>0.082</td>\n",
              "      <td>0.981</td>\n",
              "    </tr>\n",
              "    <tr>\n",
              "      <th>67</th>\n",
              "      <td>0.119</td>\n",
              "      <td>0.967</td>\n",
              "      <td>0.078</td>\n",
              "      <td>0.982</td>\n",
              "    </tr>\n",
              "    <tr>\n",
              "      <th>68</th>\n",
              "      <td>0.118</td>\n",
              "      <td>0.967</td>\n",
              "      <td>0.077</td>\n",
              "      <td>0.981</td>\n",
              "    </tr>\n",
              "    <tr>\n",
              "      <th>69</th>\n",
              "      <td>0.117</td>\n",
              "      <td>0.966</td>\n",
              "      <td>0.082</td>\n",
              "      <td>0.979</td>\n",
              "    </tr>\n",
              "    <tr>\n",
              "      <th>70</th>\n",
              "      <td>0.117</td>\n",
              "      <td>0.967</td>\n",
              "      <td>0.075</td>\n",
              "      <td>0.982</td>\n",
              "    </tr>\n",
              "    <tr>\n",
              "      <th>71</th>\n",
              "      <td>0.115</td>\n",
              "      <td>0.968</td>\n",
              "      <td>0.081</td>\n",
              "      <td>0.982</td>\n",
              "    </tr>\n",
              "    <tr>\n",
              "      <th>72</th>\n",
              "      <td>0.115</td>\n",
              "      <td>0.968</td>\n",
              "      <td>0.075</td>\n",
              "      <td>0.983</td>\n",
              "    </tr>\n",
              "    <tr>\n",
              "      <th>73</th>\n",
              "      <td>0.114</td>\n",
              "      <td>0.969</td>\n",
              "      <td>0.073</td>\n",
              "      <td>0.980</td>\n",
              "    </tr>\n",
              "    <tr>\n",
              "      <th>74</th>\n",
              "      <td>0.114</td>\n",
              "      <td>0.968</td>\n",
              "      <td>0.072</td>\n",
              "      <td>0.982</td>\n",
              "    </tr>\n",
              "    <tr>\n",
              "      <th>75</th>\n",
              "      <td>0.113</td>\n",
              "      <td>0.969</td>\n",
              "      <td>0.074</td>\n",
              "      <td>0.981</td>\n",
              "    </tr>\n",
              "    <tr>\n",
              "      <th>76</th>\n",
              "      <td>0.112</td>\n",
              "      <td>0.970</td>\n",
              "      <td>0.070</td>\n",
              "      <td>0.982</td>\n",
              "    </tr>\n",
              "    <tr>\n",
              "      <th>77</th>\n",
              "      <td>0.112</td>\n",
              "      <td>0.968</td>\n",
              "      <td>0.073</td>\n",
              "      <td>0.983</td>\n",
              "    </tr>\n",
              "    <tr>\n",
              "      <th>78</th>\n",
              "      <td>0.112</td>\n",
              "      <td>0.969</td>\n",
              "      <td>0.076</td>\n",
              "      <td>0.979</td>\n",
              "    </tr>\n",
              "    <tr>\n",
              "      <th>79</th>\n",
              "      <td>0.110</td>\n",
              "      <td>0.969</td>\n",
              "      <td>0.079</td>\n",
              "      <td>0.979</td>\n",
              "    </tr>\n",
              "    <tr>\n",
              "      <th>80</th>\n",
              "      <td>0.111</td>\n",
              "      <td>0.969</td>\n",
              "      <td>0.069</td>\n",
              "      <td>0.981</td>\n",
              "    </tr>\n",
              "    <tr>\n",
              "      <th>81</th>\n",
              "      <td>0.109</td>\n",
              "      <td>0.970</td>\n",
              "      <td>0.075</td>\n",
              "      <td>0.981</td>\n",
              "    </tr>\n",
              "    <tr>\n",
              "      <th>82</th>\n",
              "      <td>0.110</td>\n",
              "      <td>0.970</td>\n",
              "      <td>0.073</td>\n",
              "      <td>0.981</td>\n",
              "    </tr>\n",
              "    <tr>\n",
              "      <th>83</th>\n",
              "      <td>0.109</td>\n",
              "      <td>0.969</td>\n",
              "      <td>0.068</td>\n",
              "      <td>0.983</td>\n",
              "    </tr>\n",
              "    <tr>\n",
              "      <th>84</th>\n",
              "      <td>0.109</td>\n",
              "      <td>0.970</td>\n",
              "      <td>0.068</td>\n",
              "      <td>0.983</td>\n",
              "    </tr>\n",
              "    <tr>\n",
              "      <th>85</th>\n",
              "      <td>0.109</td>\n",
              "      <td>0.970</td>\n",
              "      <td>0.072</td>\n",
              "      <td>0.979</td>\n",
              "    </tr>\n",
              "    <tr>\n",
              "      <th>86</th>\n",
              "      <td>0.108</td>\n",
              "      <td>0.970</td>\n",
              "      <td>0.073</td>\n",
              "      <td>0.982</td>\n",
              "    </tr>\n",
              "    <tr>\n",
              "      <th>87</th>\n",
              "      <td>0.107</td>\n",
              "      <td>0.970</td>\n",
              "      <td>0.067</td>\n",
              "      <td>0.984</td>\n",
              "    </tr>\n",
              "    <tr>\n",
              "      <th>88</th>\n",
              "      <td>0.106</td>\n",
              "      <td>0.971</td>\n",
              "      <td>0.075</td>\n",
              "      <td>0.980</td>\n",
              "    </tr>\n",
              "    <tr>\n",
              "      <th>89</th>\n",
              "      <td>0.108</td>\n",
              "      <td>0.970</td>\n",
              "      <td>0.069</td>\n",
              "      <td>0.983</td>\n",
              "    </tr>\n",
              "    <tr>\n",
              "      <th>90</th>\n",
              "      <td>0.106</td>\n",
              "      <td>0.972</td>\n",
              "      <td>0.075</td>\n",
              "      <td>0.979</td>\n",
              "    </tr>\n",
              "    <tr>\n",
              "      <th>91</th>\n",
              "      <td>0.106</td>\n",
              "      <td>0.971</td>\n",
              "      <td>0.068</td>\n",
              "      <td>0.981</td>\n",
              "    </tr>\n",
              "    <tr>\n",
              "      <th>92</th>\n",
              "      <td>0.106</td>\n",
              "      <td>0.971</td>\n",
              "      <td>0.068</td>\n",
              "      <td>0.981</td>\n",
              "    </tr>\n",
              "    <tr>\n",
              "      <th>93</th>\n",
              "      <td>0.106</td>\n",
              "      <td>0.971</td>\n",
              "      <td>0.072</td>\n",
              "      <td>0.981</td>\n",
              "    </tr>\n",
              "    <tr>\n",
              "      <th>94</th>\n",
              "      <td>0.105</td>\n",
              "      <td>0.971</td>\n",
              "      <td>0.068</td>\n",
              "      <td>0.983</td>\n",
              "    </tr>\n",
              "    <tr>\n",
              "      <th>95</th>\n",
              "      <td>0.106</td>\n",
              "      <td>0.971</td>\n",
              "      <td>0.066</td>\n",
              "      <td>0.983</td>\n",
              "    </tr>\n",
              "    <tr>\n",
              "      <th>96</th>\n",
              "      <td>0.105</td>\n",
              "      <td>0.971</td>\n",
              "      <td>0.067</td>\n",
              "      <td>0.981</td>\n",
              "    </tr>\n",
              "    <tr>\n",
              "      <th>97</th>\n",
              "      <td>0.105</td>\n",
              "      <td>0.972</td>\n",
              "      <td>0.066</td>\n",
              "      <td>0.984</td>\n",
              "    </tr>\n",
              "    <tr>\n",
              "      <th>98</th>\n",
              "      <td>0.105</td>\n",
              "      <td>0.972</td>\n",
              "      <td>0.072</td>\n",
              "      <td>0.981</td>\n",
              "    </tr>\n",
              "    <tr>\n",
              "      <th>99</th>\n",
              "      <td>0.105</td>\n",
              "      <td>0.971</td>\n",
              "      <td>0.068</td>\n",
              "      <td>0.981</td>\n",
              "    </tr>\n",
              "  </tbody>\n",
              "</table>\n",
              "</div>\n",
              "      <button class=\"colab-df-convert\" onclick=\"convertToInteractive('df-e30f6dcb-2f34-481e-871e-7e734ffdc36e')\"\n",
              "              title=\"Convert this dataframe to an interactive table.\"\n",
              "              style=\"display:none;\">\n",
              "        \n",
              "  <svg xmlns=\"http://www.w3.org/2000/svg\" height=\"24px\"viewBox=\"0 0 24 24\"\n",
              "       width=\"24px\">\n",
              "    <path d=\"M0 0h24v24H0V0z\" fill=\"none\"/>\n",
              "    <path d=\"M18.56 5.44l.94 2.06.94-2.06 2.06-.94-2.06-.94-.94-2.06-.94 2.06-2.06.94zm-11 1L8.5 8.5l.94-2.06 2.06-.94-2.06-.94L8.5 2.5l-.94 2.06-2.06.94zm10 10l.94 2.06.94-2.06 2.06-.94-2.06-.94-.94-2.06-.94 2.06-2.06.94z\"/><path d=\"M17.41 7.96l-1.37-1.37c-.4-.4-.92-.59-1.43-.59-.52 0-1.04.2-1.43.59L10.3 9.45l-7.72 7.72c-.78.78-.78 2.05 0 2.83L4 21.41c.39.39.9.59 1.41.59.51 0 1.02-.2 1.41-.59l7.78-7.78 2.81-2.81c.8-.78.8-2.07 0-2.86zM5.41 20L4 18.59l7.72-7.72 1.47 1.35L5.41 20z\"/>\n",
              "  </svg>\n",
              "      </button>\n",
              "      \n",
              "  <style>\n",
              "    .colab-df-container {\n",
              "      display:flex;\n",
              "      flex-wrap:wrap;\n",
              "      gap: 12px;\n",
              "    }\n",
              "\n",
              "    .colab-df-convert {\n",
              "      background-color: #E8F0FE;\n",
              "      border: none;\n",
              "      border-radius: 50%;\n",
              "      cursor: pointer;\n",
              "      display: none;\n",
              "      fill: #1967D2;\n",
              "      height: 32px;\n",
              "      padding: 0 0 0 0;\n",
              "      width: 32px;\n",
              "    }\n",
              "\n",
              "    .colab-df-convert:hover {\n",
              "      background-color: #E2EBFA;\n",
              "      box-shadow: 0px 1px 2px rgba(60, 64, 67, 0.3), 0px 1px 3px 1px rgba(60, 64, 67, 0.15);\n",
              "      fill: #174EA6;\n",
              "    }\n",
              "\n",
              "    [theme=dark] .colab-df-convert {\n",
              "      background-color: #3B4455;\n",
              "      fill: #D2E3FC;\n",
              "    }\n",
              "\n",
              "    [theme=dark] .colab-df-convert:hover {\n",
              "      background-color: #434B5C;\n",
              "      box-shadow: 0px 1px 3px 1px rgba(0, 0, 0, 0.15);\n",
              "      filter: drop-shadow(0px 1px 2px rgba(0, 0, 0, 0.3));\n",
              "      fill: #FFFFFF;\n",
              "    }\n",
              "  </style>\n",
              "\n",
              "      <script>\n",
              "        const buttonEl =\n",
              "          document.querySelector('#df-e30f6dcb-2f34-481e-871e-7e734ffdc36e button.colab-df-convert');\n",
              "        buttonEl.style.display =\n",
              "          google.colab.kernel.accessAllowed ? 'block' : 'none';\n",
              "\n",
              "        async function convertToInteractive(key) {\n",
              "          const element = document.querySelector('#df-e30f6dcb-2f34-481e-871e-7e734ffdc36e');\n",
              "          const dataTable =\n",
              "            await google.colab.kernel.invokeFunction('convertToInteractive',\n",
              "                                                     [key], {});\n",
              "          if (!dataTable) return;\n",
              "\n",
              "          const docLinkHtml = 'Like what you see? Visit the ' +\n",
              "            '<a target=\"_blank\" href=https://colab.research.google.com/notebooks/data_table.ipynb>data table notebook</a>'\n",
              "            + ' to learn more about interactive tables.';\n",
              "          element.innerHTML = '';\n",
              "          dataTable['output_type'] = 'display_data';\n",
              "          await google.colab.output.renderOutput(dataTable, element);\n",
              "          const docLink = document.createElement('div');\n",
              "          docLink.innerHTML = docLinkHtml;\n",
              "          element.appendChild(docLink);\n",
              "        }\n",
              "      </script>\n",
              "    </div>\n",
              "  </div>\n",
              "  "
            ]
          },
          "metadata": {},
          "execution_count": 128
        }
      ]
    },
    {
      "cell_type": "code",
      "execution_count": null,
      "metadata": {
        "id": "Wp8EjPhsQYJs",
        "colab": {
          "base_uri": "https://localhost:8080/",
          "height": 364
        },
        "outputId": "1c37ac70-9138-493a-b82d-6aa38bc880e7"
      },
      "outputs": [
        {
          "output_type": "execute_result",
          "data": {
            "text/plain": [
              "<matplotlib.axes._subplots.AxesSubplot at 0x7f7600458f10>"
            ]
          },
          "metadata": {},
          "execution_count": 129
        },
        {
          "output_type": "display_data",
          "data": {
            "text/plain": [
              "<Figure size 576x396 with 1 Axes>"
            ],
            "image/png": "[encoded data removed]"
          },
          "metadata": {}
        }
      ],
      "source": [
        "pd.DataFrame(model.history.history).plot()"
      ]
    },
    {
      "cell_type": "code",
      "source": [
        "loss, accuracy = model.evaluate(X_test, y_test, verbose=0)\n",
        "print(\"loss : \", loss)\n",
        "print(\"accuracy : \", accuracy)"
      ],
      "metadata": {
        "colab": {
          "base_uri": "https://localhost:8080/"
        },
        "id": "3-MNy4uXblyT",
        "outputId": "5805ea04-d9c6-4f66-95ff-880d7f6e40eb"
      },
      "execution_count": null,
      "outputs": [
        {
          "output_type": "stream",
          "name": "stdout",
          "text": [
            "loss :  0.07640224695205688\n",
            "accuracy :  0.9766666889190674\n"
          ]
        }
      ]
    },
    {
      "cell_type": "code",
      "source": [
        "y_pred = model.predict(X_test) > 0.5\n",
        "print(confusion_matrix(y_test, y_pred))\n",
        "print(classification_report(y_test, y_pred))"
      ],
      "metadata": {
        "colab": {
          "base_uri": "https://localhost:8080/"
        },
        "id": "f4BmFD3obpKI",
        "outputId": "bb7dc68a-d96d-42de-9b03-11c484f8d015"
      },
      "execution_count": null,
      "outputs": [
        {
          "output_type": "stream",
          "name": "stdout",
          "text": [
            "38/38 [==============================] - 0s 1ms/step\n",
            "[[989  12]\n",
            " [ 16 183]]\n",
            "              precision    recall  f1-score   support\n",
            "\n",
            "           0       0.98      0.99      0.99      1001\n",
            "           1       0.94      0.92      0.93       199\n",
            "\n",
            "    accuracy                           0.98      1200\n",
            "   macro avg       0.96      0.95      0.96      1200\n",
            "weighted avg       0.98      0.98      0.98      1200\n",
            "\n"
          ]
        }
      ]
    },
    {
      "cell_type": "markdown",
      "metadata": {
        "id": "EODePC1MQYJt"
      },
      "source": [
        "#### Prediction"
      ]
    },
    {
      "cell_type": "code",
      "execution_count": null,
      "metadata": {
        "id": "G1YyfoKEQYJt"
      },
      "outputs": [],
      "source": [
        "sample_pred=df.drop('left',axis=1).sample(10)"
      ]
    },
    {
      "cell_type": "code",
      "source": [
        "index=sample_pred.index"
      ],
      "metadata": {
        "id": "s231xT75cqZa"
      },
      "execution_count": null,
      "outputs": []
    },
    {
      "cell_type": "code",
      "source": [
        "sample_pred=scaler.transform(sample_pred)"
      ],
      "metadata": {
        "id": "H5pRyFZccQm3"
      },
      "execution_count": null,
      "outputs": []
    },
    {
      "cell_type": "code",
      "source": [
        "(model.predict(sample_pred) > 0.5).astype(\"int32\")"
      ],
      "metadata": {
        "colab": {
          "base_uri": "https://localhost:8080/"
        },
        "id": "n_C1PKE9caR_",
        "outputId": "ac32f0a0-5975-4598-d761-72bbe68551e9"
      },
      "execution_count": null,
      "outputs": [
        {
          "output_type": "stream",
          "name": "stdout",
          "text": [
            "1/1 [==============================] - 0s 15ms/step\n"
          ]
        },
        {
          "output_type": "execute_result",
          "data": {
            "text/plain": [
              "array([[0],\n",
              "       [0],\n",
              "       [0],\n",
              "       [0],\n",
              "       [1],\n",
              "       [0],\n",
              "       [0],\n",
              "       [0],\n",
              "       [1],\n",
              "       [1]], dtype=int32)"
            ]
          },
          "metadata": {},
          "execution_count": 135
        }
      ]
    },
    {
      "cell_type": "code",
      "source": [
        "df.iloc[index]['left']\n",
        "#if you compare this cell's result with that from before, we can see all our predictions are true"
      ],
      "metadata": {
        "colab": {
          "base_uri": "https://localhost:8080/"
        },
        "id": "6ENdbW8ociH-",
        "outputId": "f92ec1e5-bd2d-490a-dc97-9fb2b680d653"
      },
      "execution_count": null,
      "outputs": [
        {
          "output_type": "execute_result",
          "data": {
            "text/plain": [
              "10539    0\n",
              "11259    0\n",
              "2766     0\n",
              "3535     0\n",
              "1017     1\n",
              "2939     0\n",
              "9190     0\n",
              "4999     0\n",
              "1773     1\n",
              "1290     1\n",
              "Name: left, dtype: int64"
            ]
          },
          "metadata": {},
          "execution_count": 136
        }
      ]
    }
  ],
  "metadata": {
    "colab": {
      "collapsed_sections": [],
      "provenance": []
    },
    "kernelspec": {
      "display_name": "Python 3.9.13 ('base')",
      "language": "python",
      "name": "python3"
    },
    "language_info": {
      "codemirror_mode": {
        "name": "ipython",
        "version": 3
      },
      "file_extension": ".py",
      "mimetype": "text/x-python",
      "name": "python",
      "nbconvert_exporter": "python",
      "pygments_lexer": "ipython3",
      "version": "3.9.13"
    },
    "vscode": {
      "interpreter": {
        "hash": "b91502e98c93ec413571a3c4a71c4e7e2f090119475bdef759aa0802c5125d05"
      }
    }
  },
  "nbformat": 4,
  "nbformat_minor": 0
}